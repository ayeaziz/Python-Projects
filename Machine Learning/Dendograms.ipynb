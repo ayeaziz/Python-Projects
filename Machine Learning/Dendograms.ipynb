{
  "nbformat": 4,
  "nbformat_minor": 0,
  "metadata": {
    "colab": {
      "name": "Final Q2.ipynb",
      "provenance": []
    },
    "kernelspec": {
      "name": "python3",
      "display_name": "Python 3"
    },
    "language_info": {
      "name": "python"
    }
  },
  "cells": [
    {
      "cell_type": "markdown",
      "source": [
        "Importing Libraries"
      ],
      "metadata": {
        "id": "a0dwlWfQIlnB"
      }
    },
    {
      "cell_type": "code",
      "execution_count": null,
      "metadata": {
        "id": "D9s1LLLLEGjn"
      },
      "outputs": [],
      "source": [
        "#importing necessary libraries\n",
        "import numpy as np\n",
        "import pandas as pd\n",
        "import seaborn as sns\n",
        "import matplotlib.pyplot as plt\n",
        "from sklearn.cluster import KMeans\n",
        "from scipy.cluster.hierarchy import single, fcluster, dendrogram, complete\n",
        "from scipy.spatial.distance import pdist"
      ]
    },
    {
      "cell_type": "markdown",
      "source": [
        "Generating 30 points for each Gaussian distribution"
      ],
      "metadata": {
        "id": "RQ3YQCPoIksp"
      }
    },
    {
      "cell_type": "code",
      "source": [
        "mean = (0,0)\n",
        "cov = [[1,0],[0,1]]\n",
        "x = pd.DataFrame(np.random.multivariate_normal(mean, cov, 30))\n",
        "x"
      ],
      "metadata": {
        "colab": {
          "base_uri": "https://localhost:8080/",
          "height": 976
        },
        "id": "XFWdlHfPELmj",
        "outputId": "5b3d32a9-ba80-47a0-d213-6d5ce3280665"
      },
      "execution_count": null,
      "outputs": [
        {
          "output_type": "execute_result",
          "data": {
            "text/html": [
              "<div>\n",
              "<style scoped>\n",
              "    .dataframe tbody tr th:only-of-type {\n",
              "        vertical-align: middle;\n",
              "    }\n",
              "\n",
              "    .dataframe tbody tr th {\n",
              "        vertical-align: top;\n",
              "    }\n",
              "\n",
              "    .dataframe thead th {\n",
              "        text-align: right;\n",
              "    }\n",
              "</style>\n",
              "<table border=\"1\" class=\"dataframe\">\n",
              "  <thead>\n",
              "    <tr style=\"text-align: right;\">\n",
              "      <th></th>\n",
              "      <th>0</th>\n",
              "      <th>1</th>\n",
              "    </tr>\n",
              "  </thead>\n",
              "  <tbody>\n",
              "    <tr>\n",
              "      <th>0</th>\n",
              "      <td>-1.917326</td>\n",
              "      <td>-0.511485</td>\n",
              "    </tr>\n",
              "    <tr>\n",
              "      <th>1</th>\n",
              "      <td>-0.457526</td>\n",
              "      <td>-0.831952</td>\n",
              "    </tr>\n",
              "    <tr>\n",
              "      <th>2</th>\n",
              "      <td>-1.037807</td>\n",
              "      <td>0.241089</td>\n",
              "    </tr>\n",
              "    <tr>\n",
              "      <th>3</th>\n",
              "      <td>0.656753</td>\n",
              "      <td>0.238245</td>\n",
              "    </tr>\n",
              "    <tr>\n",
              "      <th>4</th>\n",
              "      <td>1.674734</td>\n",
              "      <td>-0.265331</td>\n",
              "    </tr>\n",
              "    <tr>\n",
              "      <th>5</th>\n",
              "      <td>0.297368</td>\n",
              "      <td>-1.501035</td>\n",
              "    </tr>\n",
              "    <tr>\n",
              "      <th>6</th>\n",
              "      <td>-0.369335</td>\n",
              "      <td>1.019992</td>\n",
              "    </tr>\n",
              "    <tr>\n",
              "      <th>7</th>\n",
              "      <td>-0.863271</td>\n",
              "      <td>-0.872361</td>\n",
              "    </tr>\n",
              "    <tr>\n",
              "      <th>8</th>\n",
              "      <td>-0.354511</td>\n",
              "      <td>-0.752024</td>\n",
              "    </tr>\n",
              "    <tr>\n",
              "      <th>9</th>\n",
              "      <td>0.323321</td>\n",
              "      <td>-0.407240</td>\n",
              "    </tr>\n",
              "    <tr>\n",
              "      <th>10</th>\n",
              "      <td>-0.324703</td>\n",
              "      <td>-1.066967</td>\n",
              "    </tr>\n",
              "    <tr>\n",
              "      <th>11</th>\n",
              "      <td>0.355660</td>\n",
              "      <td>-1.603008</td>\n",
              "    </tr>\n",
              "    <tr>\n",
              "      <th>12</th>\n",
              "      <td>-0.895229</td>\n",
              "      <td>-0.566372</td>\n",
              "    </tr>\n",
              "    <tr>\n",
              "      <th>13</th>\n",
              "      <td>-0.972338</td>\n",
              "      <td>-0.349618</td>\n",
              "    </tr>\n",
              "    <tr>\n",
              "      <th>14</th>\n",
              "      <td>-0.030691</td>\n",
              "      <td>0.372887</td>\n",
              "    </tr>\n",
              "    <tr>\n",
              "      <th>15</th>\n",
              "      <td>0.037371</td>\n",
              "      <td>0.291016</td>\n",
              "    </tr>\n",
              "    <tr>\n",
              "      <th>16</th>\n",
              "      <td>0.601939</td>\n",
              "      <td>-0.623153</td>\n",
              "    </tr>\n",
              "    <tr>\n",
              "      <th>17</th>\n",
              "      <td>0.537203</td>\n",
              "      <td>1.701426</td>\n",
              "    </tr>\n",
              "    <tr>\n",
              "      <th>18</th>\n",
              "      <td>-0.362123</td>\n",
              "      <td>-0.035820</td>\n",
              "    </tr>\n",
              "    <tr>\n",
              "      <th>19</th>\n",
              "      <td>-0.015245</td>\n",
              "      <td>-0.283902</td>\n",
              "    </tr>\n",
              "    <tr>\n",
              "      <th>20</th>\n",
              "      <td>0.472673</td>\n",
              "      <td>-3.567905</td>\n",
              "    </tr>\n",
              "    <tr>\n",
              "      <th>21</th>\n",
              "      <td>-0.987902</td>\n",
              "      <td>0.611701</td>\n",
              "    </tr>\n",
              "    <tr>\n",
              "      <th>22</th>\n",
              "      <td>1.606233</td>\n",
              "      <td>-1.417832</td>\n",
              "    </tr>\n",
              "    <tr>\n",
              "      <th>23</th>\n",
              "      <td>1.037150</td>\n",
              "      <td>1.100124</td>\n",
              "    </tr>\n",
              "    <tr>\n",
              "      <th>24</th>\n",
              "      <td>-0.543704</td>\n",
              "      <td>-1.389732</td>\n",
              "    </tr>\n",
              "    <tr>\n",
              "      <th>25</th>\n",
              "      <td>-0.057138</td>\n",
              "      <td>0.492781</td>\n",
              "    </tr>\n",
              "    <tr>\n",
              "      <th>26</th>\n",
              "      <td>0.629464</td>\n",
              "      <td>0.630302</td>\n",
              "    </tr>\n",
              "    <tr>\n",
              "      <th>27</th>\n",
              "      <td>-0.038747</td>\n",
              "      <td>-0.398595</td>\n",
              "    </tr>\n",
              "    <tr>\n",
              "      <th>28</th>\n",
              "      <td>-1.760248</td>\n",
              "      <td>0.125086</td>\n",
              "    </tr>\n",
              "    <tr>\n",
              "      <th>29</th>\n",
              "      <td>1.986831</td>\n",
              "      <td>-0.829845</td>\n",
              "    </tr>\n",
              "  </tbody>\n",
              "</table>\n",
              "</div>"
            ],
            "text/plain": [
              "           0         1\n",
              "0  -1.917326 -0.511485\n",
              "1  -0.457526 -0.831952\n",
              "2  -1.037807  0.241089\n",
              "3   0.656753  0.238245\n",
              "4   1.674734 -0.265331\n",
              "5   0.297368 -1.501035\n",
              "6  -0.369335  1.019992\n",
              "7  -0.863271 -0.872361\n",
              "8  -0.354511 -0.752024\n",
              "9   0.323321 -0.407240\n",
              "10 -0.324703 -1.066967\n",
              "11  0.355660 -1.603008\n",
              "12 -0.895229 -0.566372\n",
              "13 -0.972338 -0.349618\n",
              "14 -0.030691  0.372887\n",
              "15  0.037371  0.291016\n",
              "16  0.601939 -0.623153\n",
              "17  0.537203  1.701426\n",
              "18 -0.362123 -0.035820\n",
              "19 -0.015245 -0.283902\n",
              "20  0.472673 -3.567905\n",
              "21 -0.987902  0.611701\n",
              "22  1.606233 -1.417832\n",
              "23  1.037150  1.100124\n",
              "24 -0.543704 -1.389732\n",
              "25 -0.057138  0.492781\n",
              "26  0.629464  0.630302\n",
              "27 -0.038747 -0.398595\n",
              "28 -1.760248  0.125086\n",
              "29  1.986831 -0.829845"
            ]
          },
          "metadata": {},
          "execution_count": 2
        }
      ]
    },
    {
      "cell_type": "code",
      "source": [
        "mean2 = (5,0)\n",
        "cov2 = [[1,0],[0,1]]\n",
        "x2 = pd.DataFrame(np.random.multivariate_normal(mean2, cov2, 30))\n",
        "x2"
      ],
      "metadata": {
        "colab": {
          "base_uri": "https://localhost:8080/",
          "height": 976
        },
        "id": "Md6ODBCMFDTX",
        "outputId": "4c5eb7d9-224c-46cd-a256-976b3d9a6637"
      },
      "execution_count": null,
      "outputs": [
        {
          "output_type": "execute_result",
          "data": {
            "text/html": [
              "<div>\n",
              "<style scoped>\n",
              "    .dataframe tbody tr th:only-of-type {\n",
              "        vertical-align: middle;\n",
              "    }\n",
              "\n",
              "    .dataframe tbody tr th {\n",
              "        vertical-align: top;\n",
              "    }\n",
              "\n",
              "    .dataframe thead th {\n",
              "        text-align: right;\n",
              "    }\n",
              "</style>\n",
              "<table border=\"1\" class=\"dataframe\">\n",
              "  <thead>\n",
              "    <tr style=\"text-align: right;\">\n",
              "      <th></th>\n",
              "      <th>0</th>\n",
              "      <th>1</th>\n",
              "    </tr>\n",
              "  </thead>\n",
              "  <tbody>\n",
              "    <tr>\n",
              "      <th>0</th>\n",
              "      <td>4.691779</td>\n",
              "      <td>-0.545253</td>\n",
              "    </tr>\n",
              "    <tr>\n",
              "      <th>1</th>\n",
              "      <td>5.179041</td>\n",
              "      <td>-0.396123</td>\n",
              "    </tr>\n",
              "    <tr>\n",
              "      <th>2</th>\n",
              "      <td>5.705371</td>\n",
              "      <td>0.297860</td>\n",
              "    </tr>\n",
              "    <tr>\n",
              "      <th>3</th>\n",
              "      <td>3.280041</td>\n",
              "      <td>0.577716</td>\n",
              "    </tr>\n",
              "    <tr>\n",
              "      <th>4</th>\n",
              "      <td>4.386698</td>\n",
              "      <td>1.066553</td>\n",
              "    </tr>\n",
              "    <tr>\n",
              "      <th>5</th>\n",
              "      <td>4.821439</td>\n",
              "      <td>-0.571520</td>\n",
              "    </tr>\n",
              "    <tr>\n",
              "      <th>6</th>\n",
              "      <td>4.972676</td>\n",
              "      <td>0.560010</td>\n",
              "    </tr>\n",
              "    <tr>\n",
              "      <th>7</th>\n",
              "      <td>4.875049</td>\n",
              "      <td>1.240004</td>\n",
              "    </tr>\n",
              "    <tr>\n",
              "      <th>8</th>\n",
              "      <td>5.307968</td>\n",
              "      <td>0.260000</td>\n",
              "    </tr>\n",
              "    <tr>\n",
              "      <th>9</th>\n",
              "      <td>6.231332</td>\n",
              "      <td>-0.254525</td>\n",
              "    </tr>\n",
              "    <tr>\n",
              "      <th>10</th>\n",
              "      <td>6.171955</td>\n",
              "      <td>-0.069764</td>\n",
              "    </tr>\n",
              "    <tr>\n",
              "      <th>11</th>\n",
              "      <td>2.710995</td>\n",
              "      <td>-0.121760</td>\n",
              "    </tr>\n",
              "    <tr>\n",
              "      <th>12</th>\n",
              "      <td>4.366105</td>\n",
              "      <td>-1.133036</td>\n",
              "    </tr>\n",
              "    <tr>\n",
              "      <th>13</th>\n",
              "      <td>4.024882</td>\n",
              "      <td>-1.187046</td>\n",
              "    </tr>\n",
              "    <tr>\n",
              "      <th>14</th>\n",
              "      <td>4.706930</td>\n",
              "      <td>0.511483</td>\n",
              "    </tr>\n",
              "    <tr>\n",
              "      <th>15</th>\n",
              "      <td>5.682805</td>\n",
              "      <td>0.535237</td>\n",
              "    </tr>\n",
              "    <tr>\n",
              "      <th>16</th>\n",
              "      <td>6.723636</td>\n",
              "      <td>0.106103</td>\n",
              "    </tr>\n",
              "    <tr>\n",
              "      <th>17</th>\n",
              "      <td>3.395533</td>\n",
              "      <td>0.745540</td>\n",
              "    </tr>\n",
              "    <tr>\n",
              "      <th>18</th>\n",
              "      <td>6.559464</td>\n",
              "      <td>1.631262</td>\n",
              "    </tr>\n",
              "    <tr>\n",
              "      <th>19</th>\n",
              "      <td>3.129205</td>\n",
              "      <td>0.103400</td>\n",
              "    </tr>\n",
              "    <tr>\n",
              "      <th>20</th>\n",
              "      <td>4.230494</td>\n",
              "      <td>-0.428063</td>\n",
              "    </tr>\n",
              "    <tr>\n",
              "      <th>21</th>\n",
              "      <td>4.410279</td>\n",
              "      <td>-0.471206</td>\n",
              "    </tr>\n",
              "    <tr>\n",
              "      <th>22</th>\n",
              "      <td>6.089644</td>\n",
              "      <td>1.329487</td>\n",
              "    </tr>\n",
              "    <tr>\n",
              "      <th>23</th>\n",
              "      <td>5.179307</td>\n",
              "      <td>1.641647</td>\n",
              "    </tr>\n",
              "    <tr>\n",
              "      <th>24</th>\n",
              "      <td>5.239784</td>\n",
              "      <td>-1.359301</td>\n",
              "    </tr>\n",
              "    <tr>\n",
              "      <th>25</th>\n",
              "      <td>4.748770</td>\n",
              "      <td>0.151480</td>\n",
              "    </tr>\n",
              "    <tr>\n",
              "      <th>26</th>\n",
              "      <td>3.427039</td>\n",
              "      <td>-1.307752</td>\n",
              "    </tr>\n",
              "    <tr>\n",
              "      <th>27</th>\n",
              "      <td>4.334264</td>\n",
              "      <td>-0.900622</td>\n",
              "    </tr>\n",
              "    <tr>\n",
              "      <th>28</th>\n",
              "      <td>7.989076</td>\n",
              "      <td>-0.162144</td>\n",
              "    </tr>\n",
              "    <tr>\n",
              "      <th>29</th>\n",
              "      <td>4.595665</td>\n",
              "      <td>0.903559</td>\n",
              "    </tr>\n",
              "  </tbody>\n",
              "</table>\n",
              "</div>"
            ],
            "text/plain": [
              "           0         1\n",
              "0   4.691779 -0.545253\n",
              "1   5.179041 -0.396123\n",
              "2   5.705371  0.297860\n",
              "3   3.280041  0.577716\n",
              "4   4.386698  1.066553\n",
              "5   4.821439 -0.571520\n",
              "6   4.972676  0.560010\n",
              "7   4.875049  1.240004\n",
              "8   5.307968  0.260000\n",
              "9   6.231332 -0.254525\n",
              "10  6.171955 -0.069764\n",
              "11  2.710995 -0.121760\n",
              "12  4.366105 -1.133036\n",
              "13  4.024882 -1.187046\n",
              "14  4.706930  0.511483\n",
              "15  5.682805  0.535237\n",
              "16  6.723636  0.106103\n",
              "17  3.395533  0.745540\n",
              "18  6.559464  1.631262\n",
              "19  3.129205  0.103400\n",
              "20  4.230494 -0.428063\n",
              "21  4.410279 -0.471206\n",
              "22  6.089644  1.329487\n",
              "23  5.179307  1.641647\n",
              "24  5.239784 -1.359301\n",
              "25  4.748770  0.151480\n",
              "26  3.427039 -1.307752\n",
              "27  4.334264 -0.900622\n",
              "28  7.989076 -0.162144\n",
              "29  4.595665  0.903559"
            ]
          },
          "metadata": {},
          "execution_count": 3
        }
      ]
    },
    {
      "cell_type": "code",
      "source": [
        "mean3 = (10,5)\n",
        "cov3 = [[1,0],[0,1]]\n",
        "x3 = pd.DataFrame(np.random.multivariate_normal(mean3, cov3, 30))\n",
        "x3"
      ],
      "metadata": {
        "colab": {
          "base_uri": "https://localhost:8080/",
          "height": 976
        },
        "id": "wt3u-qWdFnZ2",
        "outputId": "1e746504-a443-49e6-d69a-14a6bcbc28cf"
      },
      "execution_count": null,
      "outputs": [
        {
          "output_type": "execute_result",
          "data": {
            "text/html": [
              "<div>\n",
              "<style scoped>\n",
              "    .dataframe tbody tr th:only-of-type {\n",
              "        vertical-align: middle;\n",
              "    }\n",
              "\n",
              "    .dataframe tbody tr th {\n",
              "        vertical-align: top;\n",
              "    }\n",
              "\n",
              "    .dataframe thead th {\n",
              "        text-align: right;\n",
              "    }\n",
              "</style>\n",
              "<table border=\"1\" class=\"dataframe\">\n",
              "  <thead>\n",
              "    <tr style=\"text-align: right;\">\n",
              "      <th></th>\n",
              "      <th>0</th>\n",
              "      <th>1</th>\n",
              "    </tr>\n",
              "  </thead>\n",
              "  <tbody>\n",
              "    <tr>\n",
              "      <th>0</th>\n",
              "      <td>10.794601</td>\n",
              "      <td>4.992641</td>\n",
              "    </tr>\n",
              "    <tr>\n",
              "      <th>1</th>\n",
              "      <td>10.518876</td>\n",
              "      <td>4.434828</td>\n",
              "    </tr>\n",
              "    <tr>\n",
              "      <th>2</th>\n",
              "      <td>11.212108</td>\n",
              "      <td>4.268543</td>\n",
              "    </tr>\n",
              "    <tr>\n",
              "      <th>3</th>\n",
              "      <td>9.021092</td>\n",
              "      <td>5.732193</td>\n",
              "    </tr>\n",
              "    <tr>\n",
              "      <th>4</th>\n",
              "      <td>9.127325</td>\n",
              "      <td>4.223641</td>\n",
              "    </tr>\n",
              "    <tr>\n",
              "      <th>5</th>\n",
              "      <td>9.971061</td>\n",
              "      <td>5.562756</td>\n",
              "    </tr>\n",
              "    <tr>\n",
              "      <th>6</th>\n",
              "      <td>9.065717</td>\n",
              "      <td>5.112216</td>\n",
              "    </tr>\n",
              "    <tr>\n",
              "      <th>7</th>\n",
              "      <td>11.542854</td>\n",
              "      <td>6.071190</td>\n",
              "    </tr>\n",
              "    <tr>\n",
              "      <th>8</th>\n",
              "      <td>10.086738</td>\n",
              "      <td>5.196083</td>\n",
              "    </tr>\n",
              "    <tr>\n",
              "      <th>9</th>\n",
              "      <td>10.199083</td>\n",
              "      <td>5.233557</td>\n",
              "    </tr>\n",
              "    <tr>\n",
              "      <th>10</th>\n",
              "      <td>10.815500</td>\n",
              "      <td>5.205707</td>\n",
              "    </tr>\n",
              "    <tr>\n",
              "      <th>11</th>\n",
              "      <td>9.319466</td>\n",
              "      <td>3.577324</td>\n",
              "    </tr>\n",
              "    <tr>\n",
              "      <th>12</th>\n",
              "      <td>8.985320</td>\n",
              "      <td>3.836705</td>\n",
              "    </tr>\n",
              "    <tr>\n",
              "      <th>13</th>\n",
              "      <td>10.238104</td>\n",
              "      <td>4.899090</td>\n",
              "    </tr>\n",
              "    <tr>\n",
              "      <th>14</th>\n",
              "      <td>11.613365</td>\n",
              "      <td>5.611512</td>\n",
              "    </tr>\n",
              "    <tr>\n",
              "      <th>15</th>\n",
              "      <td>10.791480</td>\n",
              "      <td>4.388822</td>\n",
              "    </tr>\n",
              "    <tr>\n",
              "      <th>16</th>\n",
              "      <td>10.098560</td>\n",
              "      <td>4.117383</td>\n",
              "    </tr>\n",
              "    <tr>\n",
              "      <th>17</th>\n",
              "      <td>10.911088</td>\n",
              "      <td>4.138030</td>\n",
              "    </tr>\n",
              "    <tr>\n",
              "      <th>18</th>\n",
              "      <td>8.192586</td>\n",
              "      <td>5.475046</td>\n",
              "    </tr>\n",
              "    <tr>\n",
              "      <th>19</th>\n",
              "      <td>8.396541</td>\n",
              "      <td>5.508456</td>\n",
              "    </tr>\n",
              "    <tr>\n",
              "      <th>20</th>\n",
              "      <td>9.206138</td>\n",
              "      <td>6.590491</td>\n",
              "    </tr>\n",
              "    <tr>\n",
              "      <th>21</th>\n",
              "      <td>10.756378</td>\n",
              "      <td>4.288413</td>\n",
              "    </tr>\n",
              "    <tr>\n",
              "      <th>22</th>\n",
              "      <td>11.062629</td>\n",
              "      <td>4.395645</td>\n",
              "    </tr>\n",
              "    <tr>\n",
              "      <th>23</th>\n",
              "      <td>8.987080</td>\n",
              "      <td>6.054900</td>\n",
              "    </tr>\n",
              "    <tr>\n",
              "      <th>24</th>\n",
              "      <td>9.295034</td>\n",
              "      <td>3.467966</td>\n",
              "    </tr>\n",
              "    <tr>\n",
              "      <th>25</th>\n",
              "      <td>10.448676</td>\n",
              "      <td>6.210887</td>\n",
              "    </tr>\n",
              "    <tr>\n",
              "      <th>26</th>\n",
              "      <td>10.422973</td>\n",
              "      <td>6.939889</td>\n",
              "    </tr>\n",
              "    <tr>\n",
              "      <th>27</th>\n",
              "      <td>11.969021</td>\n",
              "      <td>6.388785</td>\n",
              "    </tr>\n",
              "    <tr>\n",
              "      <th>28</th>\n",
              "      <td>9.536446</td>\n",
              "      <td>4.918556</td>\n",
              "    </tr>\n",
              "    <tr>\n",
              "      <th>29</th>\n",
              "      <td>9.927648</td>\n",
              "      <td>4.151968</td>\n",
              "    </tr>\n",
              "  </tbody>\n",
              "</table>\n",
              "</div>"
            ],
            "text/plain": [
              "            0         1\n",
              "0   10.794601  4.992641\n",
              "1   10.518876  4.434828\n",
              "2   11.212108  4.268543\n",
              "3    9.021092  5.732193\n",
              "4    9.127325  4.223641\n",
              "5    9.971061  5.562756\n",
              "6    9.065717  5.112216\n",
              "7   11.542854  6.071190\n",
              "8   10.086738  5.196083\n",
              "9   10.199083  5.233557\n",
              "10  10.815500  5.205707\n",
              "11   9.319466  3.577324\n",
              "12   8.985320  3.836705\n",
              "13  10.238104  4.899090\n",
              "14  11.613365  5.611512\n",
              "15  10.791480  4.388822\n",
              "16  10.098560  4.117383\n",
              "17  10.911088  4.138030\n",
              "18   8.192586  5.475046\n",
              "19   8.396541  5.508456\n",
              "20   9.206138  6.590491\n",
              "21  10.756378  4.288413\n",
              "22  11.062629  4.395645\n",
              "23   8.987080  6.054900\n",
              "24   9.295034  3.467966\n",
              "25  10.448676  6.210887\n",
              "26  10.422973  6.939889\n",
              "27  11.969021  6.388785\n",
              "28   9.536446  4.918556\n",
              "29   9.927648  4.151968"
            ]
          },
          "metadata": {},
          "execution_count": 4
        }
      ]
    },
    {
      "cell_type": "markdown",
      "source": [
        "Combining all the points into dataframe X"
      ],
      "metadata": {
        "id": "yMJaudZWIyOH"
      }
    },
    {
      "cell_type": "code",
      "source": [
        "df = [x,x2,x3]\n",
        "X = pd.concat(df)\n",
        "X\n"
      ],
      "metadata": {
        "colab": {
          "base_uri": "https://localhost:8080/",
          "height": 418
        },
        "id": "xT9jKjMqF5Ue",
        "outputId": "502bb77a-c916-455e-ce1a-c778a7dcbf0f"
      },
      "execution_count": null,
      "outputs": [
        {
          "output_type": "execute_result",
          "data": {
            "text/html": [
              "<div>\n",
              "<style scoped>\n",
              "    .dataframe tbody tr th:only-of-type {\n",
              "        vertical-align: middle;\n",
              "    }\n",
              "\n",
              "    .dataframe tbody tr th {\n",
              "        vertical-align: top;\n",
              "    }\n",
              "\n",
              "    .dataframe thead th {\n",
              "        text-align: right;\n",
              "    }\n",
              "</style>\n",
              "<table border=\"1\" class=\"dataframe\">\n",
              "  <thead>\n",
              "    <tr style=\"text-align: right;\">\n",
              "      <th></th>\n",
              "      <th>0</th>\n",
              "      <th>1</th>\n",
              "    </tr>\n",
              "  </thead>\n",
              "  <tbody>\n",
              "    <tr>\n",
              "      <th>0</th>\n",
              "      <td>-1.917326</td>\n",
              "      <td>-0.511485</td>\n",
              "    </tr>\n",
              "    <tr>\n",
              "      <th>1</th>\n",
              "      <td>-0.457526</td>\n",
              "      <td>-0.831952</td>\n",
              "    </tr>\n",
              "    <tr>\n",
              "      <th>2</th>\n",
              "      <td>-1.037807</td>\n",
              "      <td>0.241089</td>\n",
              "    </tr>\n",
              "    <tr>\n",
              "      <th>3</th>\n",
              "      <td>0.656753</td>\n",
              "      <td>0.238245</td>\n",
              "    </tr>\n",
              "    <tr>\n",
              "      <th>4</th>\n",
              "      <td>1.674734</td>\n",
              "      <td>-0.265331</td>\n",
              "    </tr>\n",
              "    <tr>\n",
              "      <th>...</th>\n",
              "      <td>...</td>\n",
              "      <td>...</td>\n",
              "    </tr>\n",
              "    <tr>\n",
              "      <th>25</th>\n",
              "      <td>10.448676</td>\n",
              "      <td>6.210887</td>\n",
              "    </tr>\n",
              "    <tr>\n",
              "      <th>26</th>\n",
              "      <td>10.422973</td>\n",
              "      <td>6.939889</td>\n",
              "    </tr>\n",
              "    <tr>\n",
              "      <th>27</th>\n",
              "      <td>11.969021</td>\n",
              "      <td>6.388785</td>\n",
              "    </tr>\n",
              "    <tr>\n",
              "      <th>28</th>\n",
              "      <td>9.536446</td>\n",
              "      <td>4.918556</td>\n",
              "    </tr>\n",
              "    <tr>\n",
              "      <th>29</th>\n",
              "      <td>9.927648</td>\n",
              "      <td>4.151968</td>\n",
              "    </tr>\n",
              "  </tbody>\n",
              "</table>\n",
              "<p>90 rows × 2 columns</p>\n",
              "</div>"
            ],
            "text/plain": [
              "            0         1\n",
              "0   -1.917326 -0.511485\n",
              "1   -0.457526 -0.831952\n",
              "2   -1.037807  0.241089\n",
              "3    0.656753  0.238245\n",
              "4    1.674734 -0.265331\n",
              "..        ...       ...\n",
              "25  10.448676  6.210887\n",
              "26  10.422973  6.939889\n",
              "27  11.969021  6.388785\n",
              "28   9.536446  4.918556\n",
              "29   9.927648  4.151968\n",
              "\n",
              "[90 rows x 2 columns]"
            ]
          },
          "metadata": {},
          "execution_count": 5
        }
      ]
    },
    {
      "cell_type": "code",
      "source": [
        "X.to_csv('Multivariate Gaussian.csv', index = False)"
      ],
      "metadata": {
        "id": "ik8ucm3wIetQ"
      },
      "execution_count": null,
      "outputs": []
    },
    {
      "cell_type": "markdown",
      "source": [
        "Using K-means algorithm to cluster the data, with K ranging from 2 to 10"
      ],
      "metadata": {
        "id": "sVcLbZH8I4U7"
      }
    },
    {
      "cell_type": "code",
      "source": [
        "inertia = []\n",
        "for i in range(2, 10):\n",
        "    kmeans = KMeans(n_clusters = i, random_state = 42)\n",
        "    kmeans.fit(X)\n",
        "    inertia.append(kmeans.inertia_)\n"
      ],
      "metadata": {
        "id": "dVA35CHiJJVX"
      },
      "execution_count": null,
      "outputs": []
    },
    {
      "cell_type": "markdown",
      "source": [
        "Making a distance matrix of dataframe X"
      ],
      "metadata": {
        "id": "XmL4j8ftJQuf"
      }
    },
    {
      "cell_type": "code",
      "source": [
        "y = pdist(X)"
      ],
      "metadata": {
        "id": "dAvGoLgXHp-f"
      },
      "execution_count": null,
      "outputs": []
    },
    {
      "cell_type": "markdown",
      "source": [
        "Single linkage"
      ],
      "metadata": {
        "id": "7d-pGMkmJZmJ"
      }
    },
    {
      "cell_type": "code",
      "source": [
        "single_linkage = single(y)\n",
        "single_linkage.size"
      ],
      "metadata": {
        "colab": {
          "base_uri": "https://localhost:8080/"
        },
        "id": "3TZnBiqqJfQi",
        "outputId": "3cca9f3b-4f14-49a4-d17b-e29e53097b1c"
      },
      "execution_count": null,
      "outputs": [
        {
          "output_type": "execute_result",
          "data": {
            "text/plain": [
              "356"
            ]
          },
          "metadata": {},
          "execution_count": 21
        }
      ]
    },
    {
      "cell_type": "code",
      "source": [
        "max_dist = 1.5\n",
        "fig = plt.figure(figsize=(25, 10))\n",
        "single_dn = dendrogram(single_linkage)\n",
        "plt.title('Dendrogram with Single Linkage')\n",
        "plt.axhline(y = max_dist, c = \"k\")\n",
        "plt.show()"
      ],
      "metadata": {
        "colab": {
          "base_uri": "https://localhost:8080/",
          "height": 543
        },
        "id": "Rwcrw68xKE8J",
        "outputId": "3e9827cb-6714-4e2c-b140-ee8c3376c031"
      },
      "execution_count": null,
      "outputs": [
        {
          "output_type": "display_data",
          "data": {
            "image/png": "[encoded data removed]",
            "text/plain": [
              "<Figure size 1800x720 with 1 Axes>"
            ]
          },
          "metadata": {
            "needs_background": "light"
          }
        }
      ]
    },
    {
      "cell_type": "markdown",
      "source": [
        "Complete Linkage"
      ],
      "metadata": {
        "id": "BTVzkb4oKi4-"
      }
    },
    {
      "cell_type": "code",
      "source": [
        "complete_linkage = complete(y)\n",
        "complete_linkage.size"
      ],
      "metadata": {
        "colab": {
          "base_uri": "https://localhost:8080/"
        },
        "id": "R70699wgKzjs",
        "outputId": "e0085cdf-30c9-4a1d-88f8-deb56c6cee4c"
      },
      "execution_count": null,
      "outputs": [
        {
          "output_type": "execute_result",
          "data": {
            "text/plain": [
              "356"
            ]
          },
          "metadata": {},
          "execution_count": 24
        }
      ]
    },
    {
      "cell_type": "code",
      "source": [
        "max_d = 8\n",
        "fig = plt.figure(figsize=(25, 10))\n",
        "complete_dn = dendrogram(complete_linkage)\n",
        "plt.title('Dendrogram with Complete Linakge')\n",
        "plt.axhline(y = max_d, c = \"k\")\n",
        "plt.show()"
      ],
      "metadata": {
        "colab": {
          "base_uri": "https://localhost:8080/",
          "height": 544
        },
        "id": "7nTjkAwMK_1z",
        "outputId": "176e3498-a3a9-4513-d0b5-fa3385bc8704"
      },
      "execution_count": null,
      "outputs": [
        {
          "output_type": "display_data",
          "data": {
            "image/png": "[encoded data removed]",
            "text/plain": [
              "<Figure size 1800x720 with 1 Axes>"
            ]
          },
          "metadata": {
            "needs_background": "light"
          }
        }
      ]
    },
    {
      "cell_type": "markdown",
      "source": [
        "Another way of estimating the correct number of clusters"
      ],
      "metadata": {
        "id": "O4x7MhQMJBsu"
      }
    },
    {
      "cell_type": "code",
      "source": [
        "plt.figure(figsize=(10,5))\n",
        "sns.lineplot(range(2, 10), inertia ,marker='o',color='red')\n",
        "plt.title('The Elbow Method')\n",
        "plt.xlabel('Number of Clusters')\n",
        "plt.ylabel('Inertia')\n",
        "plt.show()"
      ],
      "metadata": {
        "colab": {
          "base_uri": "https://localhost:8080/",
          "height": 406
        },
        "id": "ZUCRFdKrLXY0",
        "outputId": "734ac768-1d6d-4c63-8b54-f6c41f60bf54"
      },
      "execution_count": null,
      "outputs": [
        {
          "output_type": "stream",
          "name": "stderr",
          "text": [
            "/usr/local/lib/python3.7/dist-packages/seaborn/_decorators.py:43: FutureWarning: Pass the following variables as keyword args: x, y. From version 0.12, the only valid positional argument will be `data`, and passing other arguments without an explicit keyword will result in an error or misinterpretation.\n",
            "  FutureWarning\n"
          ]
        },
        {
          "output_type": "display_data",
          "data": {
            "image/png": "[encoded data removed]",
            "text/plain": [
              "<Figure size 720x360 with 1 Axes>"
            ]
          },
          "metadata": {
            "needs_background": "light"
          }
        }
      ]
    }
  ]
}