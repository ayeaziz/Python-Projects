{
  "nbformat": 4,
  "nbformat_minor": 0,
  "metadata": {
    "colab": {
      "name": "Exploratory Data Analytics.ipynb",
      "provenance": []
    },
    "kernelspec": {
      "name": "python3",
      "display_name": "Python 3"
    },
    "language_info": {
      "name": "python"
    }
  },
  "cells": [
    {
      "cell_type": "code",
      "execution_count": null,
      "metadata": {
        "id": "C5bwL24rTNwt"
      },
      "outputs": [],
      "source": [
        "import pandas as pd\n",
        "import seaborn as sns\n",
        "import matplotlib.pyplot as plt\n"
      ]
    },
    {
      "cell_type": "code",
      "source": [
        "approval = pd.read_csv(\"/covid_approval_polls.csv\")\n",
        "concern = pd.read_csv(\"/covid_concern_polls.csv\")"
      ],
      "metadata": {
        "id": "hTCm2OSKTwWG"
      },
      "execution_count": null,
      "outputs": []
    },
    {
      "cell_type": "code",
      "source": [
        "approval.head()"
      ],
      "metadata": {
        "colab": {
          "base_uri": "https://localhost:8080/",
          "height": 337
        },
        "id": "_JrvIxxRUyFv",
        "outputId": "3c7fe0b4-0fa6-4ab0-f608-b6b400f192d0"
      },
      "execution_count": null,
      "outputs": [
        {
          "output_type": "execute_result",
          "data": {
            "text/html": [
              "\n",
              "  <div id=\"df-d65f3801-5c69-4409-ab4f-081aa43b5473\">\n",
              "    <div class=\"colab-df-container\">\n",
              "      <div>\n",
              "<style scoped>\n",
              "    .dataframe tbody tr th:only-of-type {\n",
              "        vertical-align: middle;\n",
              "    }\n",
              "\n",
              "    .dataframe tbody tr th {\n",
              "        vertical-align: top;\n",
              "    }\n",
              "\n",
              "    .dataframe thead th {\n",
              "        text-align: right;\n",
              "    }\n",
              "</style>\n",
              "<table border=\"1\" class=\"dataframe\">\n",
              "  <thead>\n",
              "    <tr style=\"text-align: right;\">\n",
              "      <th></th>\n",
              "      <th>start_date</th>\n",
              "      <th>end_date</th>\n",
              "      <th>pollster</th>\n",
              "      <th>sponsor</th>\n",
              "      <th>sample_size</th>\n",
              "      <th>population</th>\n",
              "      <th>party</th>\n",
              "      <th>subject</th>\n",
              "      <th>tracking</th>\n",
              "      <th>text</th>\n",
              "      <th>approve</th>\n",
              "      <th>disapprove</th>\n",
              "      <th>url</th>\n",
              "    </tr>\n",
              "  </thead>\n",
              "  <tbody>\n",
              "    <tr>\n",
              "      <th>0</th>\n",
              "      <td>2020-02-02</td>\n",
              "      <td>2020-02-04</td>\n",
              "      <td>YouGov</td>\n",
              "      <td>Economist</td>\n",
              "      <td>1500.0</td>\n",
              "      <td>a</td>\n",
              "      <td>all</td>\n",
              "      <td>Trump</td>\n",
              "      <td>False</td>\n",
              "      <td>Do you approve or disapprove of Donald Trump’s...</td>\n",
              "      <td>42.0</td>\n",
              "      <td>29.0</td>\n",
              "      <td>https://d25d2506sfb94s.cloudfront.net/cumulus_...</td>\n",
              "    </tr>\n",
              "    <tr>\n",
              "      <th>1</th>\n",
              "      <td>2020-02-02</td>\n",
              "      <td>2020-02-04</td>\n",
              "      <td>YouGov</td>\n",
              "      <td>Economist</td>\n",
              "      <td>376.0</td>\n",
              "      <td>a</td>\n",
              "      <td>R</td>\n",
              "      <td>Trump</td>\n",
              "      <td>False</td>\n",
              "      <td>Do you approve or disapprove of Donald Trump’s...</td>\n",
              "      <td>75.0</td>\n",
              "      <td>6.0</td>\n",
              "      <td>https://d25d2506sfb94s.cloudfront.net/cumulus_...</td>\n",
              "    </tr>\n",
              "    <tr>\n",
              "      <th>2</th>\n",
              "      <td>2020-02-02</td>\n",
              "      <td>2020-02-04</td>\n",
              "      <td>YouGov</td>\n",
              "      <td>Economist</td>\n",
              "      <td>523.0</td>\n",
              "      <td>a</td>\n",
              "      <td>D</td>\n",
              "      <td>Trump</td>\n",
              "      <td>False</td>\n",
              "      <td>Do you approve or disapprove of Donald Trump’s...</td>\n",
              "      <td>21.0</td>\n",
              "      <td>51.0</td>\n",
              "      <td>https://d25d2506sfb94s.cloudfront.net/cumulus_...</td>\n",
              "    </tr>\n",
              "    <tr>\n",
              "      <th>3</th>\n",
              "      <td>2020-02-02</td>\n",
              "      <td>2020-02-04</td>\n",
              "      <td>YouGov</td>\n",
              "      <td>Economist</td>\n",
              "      <td>599.0</td>\n",
              "      <td>a</td>\n",
              "      <td>I</td>\n",
              "      <td>Trump</td>\n",
              "      <td>False</td>\n",
              "      <td>Do you approve or disapprove of Donald Trump’s...</td>\n",
              "      <td>39.0</td>\n",
              "      <td>25.0</td>\n",
              "      <td>https://d25d2506sfb94s.cloudfront.net/cumulus_...</td>\n",
              "    </tr>\n",
              "    <tr>\n",
              "      <th>4</th>\n",
              "      <td>2020-02-07</td>\n",
              "      <td>2020-02-09</td>\n",
              "      <td>Morning Consult</td>\n",
              "      <td>NaN</td>\n",
              "      <td>2200.0</td>\n",
              "      <td>a</td>\n",
              "      <td>all</td>\n",
              "      <td>Trump</td>\n",
              "      <td>False</td>\n",
              "      <td>Do you approve or disapprove of the job each o...</td>\n",
              "      <td>57.0</td>\n",
              "      <td>22.0</td>\n",
              "      <td>https://morningconsult.com/wp-content/uploads/...</td>\n",
              "    </tr>\n",
              "  </tbody>\n",
              "</table>\n",
              "</div>\n",
              "      <button class=\"colab-df-convert\" onclick=\"convertToInteractive('df-d65f3801-5c69-4409-ab4f-081aa43b5473')\"\n",
              "              title=\"Convert this dataframe to an interactive table.\"\n",
              "              style=\"display:none;\">\n",
              "        \n",
              "  <svg xmlns=\"http://www.w3.org/2000/svg\" height=\"24px\"viewBox=\"0 0 24 24\"\n",
              "       width=\"24px\">\n",
              "    <path d=\"M0 0h24v24H0V0z\" fill=\"none\"/>\n",
              "    <path d=\"M18.56 5.44l.94 2.06.94-2.06 2.06-.94-2.06-.94-.94-2.06-.94 2.06-2.06.94zm-11 1L8.5 8.5l.94-2.06 2.06-.94-2.06-.94L8.5 2.5l-.94 2.06-2.06.94zm10 10l.94 2.06.94-2.06 2.06-.94-2.06-.94-.94-2.06-.94 2.06-2.06.94z\"/><path d=\"M17.41 7.96l-1.37-1.37c-.4-.4-.92-.59-1.43-.59-.52 0-1.04.2-1.43.59L10.3 9.45l-7.72 7.72c-.78.78-.78 2.05 0 2.83L4 21.41c.39.39.9.59 1.41.59.51 0 1.02-.2 1.41-.59l7.78-7.78 2.81-2.81c.8-.78.8-2.07 0-2.86zM5.41 20L4 18.59l7.72-7.72 1.47 1.35L5.41 20z\"/>\n",
              "  </svg>\n",
              "      </button>\n",
              "      \n",
              "  <style>\n",
              "    .colab-df-container {\n",
              "      display:flex;\n",
              "      flex-wrap:wrap;\n",
              "      gap: 12px;\n",
              "    }\n",
              "\n",
              "    .colab-df-convert {\n",
              "      background-color: #E8F0FE;\n",
              "      border: none;\n",
              "      border-radius: 50%;\n",
              "      cursor: pointer;\n",
              "      display: none;\n",
              "      fill: #1967D2;\n",
              "      height: 32px;\n",
              "      padding: 0 0 0 0;\n",
              "      width: 32px;\n",
              "    }\n",
              "\n",
              "    .colab-df-convert:hover {\n",
              "      background-color: #E2EBFA;\n",
              "      box-shadow: 0px 1px 2px rgba(60, 64, 67, 0.3), 0px 1px 3px 1px rgba(60, 64, 67, 0.15);\n",
              "      fill: #174EA6;\n",
              "    }\n",
              "\n",
              "    [theme=dark] .colab-df-convert {\n",
              "      background-color: #3B4455;\n",
              "      fill: #D2E3FC;\n",
              "    }\n",
              "\n",
              "    [theme=dark] .colab-df-convert:hover {\n",
              "      background-color: #434B5C;\n",
              "      box-shadow: 0px 1px 3px 1px rgba(0, 0, 0, 0.15);\n",
              "      filter: drop-shadow(0px 1px 2px rgba(0, 0, 0, 0.3));\n",
              "      fill: #FFFFFF;\n",
              "    }\n",
              "  </style>\n",
              "\n",
              "      <script>\n",
              "        const buttonEl =\n",
              "          document.querySelector('#df-d65f3801-5c69-4409-ab4f-081aa43b5473 button.colab-df-convert');\n",
              "        buttonEl.style.display =\n",
              "          google.colab.kernel.accessAllowed ? 'block' : 'none';\n",
              "\n",
              "        async function convertToInteractive(key) {\n",
              "          const element = document.querySelector('#df-d65f3801-5c69-4409-ab4f-081aa43b5473');\n",
              "          const dataTable =\n",
              "            await google.colab.kernel.invokeFunction('convertToInteractive',\n",
              "                                                     [key], {});\n",
              "          if (!dataTable) return;\n",
              "\n",
              "          const docLinkHtml = 'Like what you see? Visit the ' +\n",
              "            '<a target=\"_blank\" href=https://colab.research.google.com/notebooks/data_table.ipynb>data table notebook</a>'\n",
              "            + ' to learn more about interactive tables.';\n",
              "          element.innerHTML = '';\n",
              "          dataTable['output_type'] = 'display_data';\n",
              "          await google.colab.output.renderOutput(dataTable, element);\n",
              "          const docLink = document.createElement('div');\n",
              "          docLink.innerHTML = docLinkHtml;\n",
              "          element.appendChild(docLink);\n",
              "        }\n",
              "      </script>\n",
              "    </div>\n",
              "  </div>\n",
              "  "
            ],
            "text/plain": [
              "   start_date  ...                                                url\n",
              "0  2020-02-02  ...  https://d25d2506sfb94s.cloudfront.net/cumulus_...\n",
              "1  2020-02-02  ...  https://d25d2506sfb94s.cloudfront.net/cumulus_...\n",
              "2  2020-02-02  ...  https://d25d2506sfb94s.cloudfront.net/cumulus_...\n",
              "3  2020-02-02  ...  https://d25d2506sfb94s.cloudfront.net/cumulus_...\n",
              "4  2020-02-07  ...  https://morningconsult.com/wp-content/uploads/...\n",
              "\n",
              "[5 rows x 13 columns]"
            ]
          },
          "metadata": {},
          "execution_count": 6
        }
      ]
    },
    {
      "cell_type": "code",
      "source": [
        "approval.describe()"
      ],
      "metadata": {
        "colab": {
          "base_uri": "https://localhost:8080/",
          "height": 300
        },
        "id": "0dSg9GNxVOSm",
        "outputId": "48551b0c-8628-4249-f967-43bf03d62956"
      },
      "execution_count": null,
      "outputs": [
        {
          "output_type": "execute_result",
          "data": {
            "text/html": [
              "\n",
              "  <div id=\"df-1fa61fa3-53cb-49e2-bda0-a559aa089589\">\n",
              "    <div class=\"colab-df-container\">\n",
              "      <div>\n",
              "<style scoped>\n",
              "    .dataframe tbody tr th:only-of-type {\n",
              "        vertical-align: middle;\n",
              "    }\n",
              "\n",
              "    .dataframe tbody tr th {\n",
              "        vertical-align: top;\n",
              "    }\n",
              "\n",
              "    .dataframe thead th {\n",
              "        text-align: right;\n",
              "    }\n",
              "</style>\n",
              "<table border=\"1\" class=\"dataframe\">\n",
              "  <thead>\n",
              "    <tr style=\"text-align: right;\">\n",
              "      <th></th>\n",
              "      <th>sample_size</th>\n",
              "      <th>approve</th>\n",
              "      <th>disapprove</th>\n",
              "    </tr>\n",
              "  </thead>\n",
              "  <tbody>\n",
              "    <tr>\n",
              "      <th>count</th>\n",
              "      <td>3304.000000</td>\n",
              "      <td>3323.000000</td>\n",
              "      <td>3311.000000</td>\n",
              "    </tr>\n",
              "    <tr>\n",
              "      <th>mean</th>\n",
              "      <td>2129.879889</td>\n",
              "      <td>46.488862</td>\n",
              "      <td>48.170994</td>\n",
              "    </tr>\n",
              "    <tr>\n",
              "      <th>std</th>\n",
              "      <td>10904.242431</td>\n",
              "      <td>24.905292</td>\n",
              "      <td>24.700076</td>\n",
              "    </tr>\n",
              "    <tr>\n",
              "      <th>min</th>\n",
              "      <td>55.000000</td>\n",
              "      <td>1.000000</td>\n",
              "      <td>1.000000</td>\n",
              "    </tr>\n",
              "    <tr>\n",
              "      <th>25%</th>\n",
              "      <td>385.750000</td>\n",
              "      <td>30.000000</td>\n",
              "      <td>29.000000</td>\n",
              "    </tr>\n",
              "    <tr>\n",
              "      <th>50%</th>\n",
              "      <td>609.000000</td>\n",
              "      <td>42.000000</td>\n",
              "      <td>52.000000</td>\n",
              "    </tr>\n",
              "    <tr>\n",
              "      <th>75%</th>\n",
              "      <td>1148.750000</td>\n",
              "      <td>65.000000</td>\n",
              "      <td>62.000000</td>\n",
              "    </tr>\n",
              "    <tr>\n",
              "      <th>max</th>\n",
              "      <td>325970.000000</td>\n",
              "      <td>98.000000</td>\n",
              "      <td>98.000000</td>\n",
              "    </tr>\n",
              "  </tbody>\n",
              "</table>\n",
              "</div>\n",
              "      <button class=\"colab-df-convert\" onclick=\"convertToInteractive('df-1fa61fa3-53cb-49e2-bda0-a559aa089589')\"\n",
              "              title=\"Convert this dataframe to an interactive table.\"\n",
              "              style=\"display:none;\">\n",
              "        \n",
              "  <svg xmlns=\"http://www.w3.org/2000/svg\" height=\"24px\"viewBox=\"0 0 24 24\"\n",
              "       width=\"24px\">\n",
              "    <path d=\"M0 0h24v24H0V0z\" fill=\"none\"/>\n",
              "    <path d=\"M18.56 5.44l.94 2.06.94-2.06 2.06-.94-2.06-.94-.94-2.06-.94 2.06-2.06.94zm-11 1L8.5 8.5l.94-2.06 2.06-.94-2.06-.94L8.5 2.5l-.94 2.06-2.06.94zm10 10l.94 2.06.94-2.06 2.06-.94-2.06-.94-.94-2.06-.94 2.06-2.06.94z\"/><path d=\"M17.41 7.96l-1.37-1.37c-.4-.4-.92-.59-1.43-.59-.52 0-1.04.2-1.43.59L10.3 9.45l-7.72 7.72c-.78.78-.78 2.05 0 2.83L4 21.41c.39.39.9.59 1.41.59.51 0 1.02-.2 1.41-.59l7.78-7.78 2.81-2.81c.8-.78.8-2.07 0-2.86zM5.41 20L4 18.59l7.72-7.72 1.47 1.35L5.41 20z\"/>\n",
              "  </svg>\n",
              "      </button>\n",
              "      \n",
              "  <style>\n",
              "    .colab-df-container {\n",
              "      display:flex;\n",
              "      flex-wrap:wrap;\n",
              "      gap: 12px;\n",
              "    }\n",
              "\n",
              "    .colab-df-convert {\n",
              "      background-color: #E8F0FE;\n",
              "      border: none;\n",
              "      border-radius: 50%;\n",
              "      cursor: pointer;\n",
              "      display: none;\n",
              "      fill: #1967D2;\n",
              "      height: 32px;\n",
              "      padding: 0 0 0 0;\n",
              "      width: 32px;\n",
              "    }\n",
              "\n",
              "    .colab-df-convert:hover {\n",
              "      background-color: #E2EBFA;\n",
              "      box-shadow: 0px 1px 2px rgba(60, 64, 67, 0.3), 0px 1px 3px 1px rgba(60, 64, 67, 0.15);\n",
              "      fill: #174EA6;\n",
              "    }\n",
              "\n",
              "    [theme=dark] .colab-df-convert {\n",
              "      background-color: #3B4455;\n",
              "      fill: #D2E3FC;\n",
              "    }\n",
              "\n",
              "    [theme=dark] .colab-df-convert:hover {\n",
              "      background-color: #434B5C;\n",
              "      box-shadow: 0px 1px 3px 1px rgba(0, 0, 0, 0.15);\n",
              "      filter: drop-shadow(0px 1px 2px rgba(0, 0, 0, 0.3));\n",
              "      fill: #FFFFFF;\n",
              "    }\n",
              "  </style>\n",
              "\n",
              "      <script>\n",
              "        const buttonEl =\n",
              "          document.querySelector('#df-1fa61fa3-53cb-49e2-bda0-a559aa089589 button.colab-df-convert');\n",
              "        buttonEl.style.display =\n",
              "          google.colab.kernel.accessAllowed ? 'block' : 'none';\n",
              "\n",
              "        async function convertToInteractive(key) {\n",
              "          const element = document.querySelector('#df-1fa61fa3-53cb-49e2-bda0-a559aa089589');\n",
              "          const dataTable =\n",
              "            await google.colab.kernel.invokeFunction('convertToInteractive',\n",
              "                                                     [key], {});\n",
              "          if (!dataTable) return;\n",
              "\n",
              "          const docLinkHtml = 'Like what you see? Visit the ' +\n",
              "            '<a target=\"_blank\" href=https://colab.research.google.com/notebooks/data_table.ipynb>data table notebook</a>'\n",
              "            + ' to learn more about interactive tables.';\n",
              "          element.innerHTML = '';\n",
              "          dataTable['output_type'] = 'display_data';\n",
              "          await google.colab.output.renderOutput(dataTable, element);\n",
              "          const docLink = document.createElement('div');\n",
              "          docLink.innerHTML = docLinkHtml;\n",
              "          element.appendChild(docLink);\n",
              "        }\n",
              "      </script>\n",
              "    </div>\n",
              "  </div>\n",
              "  "
            ],
            "text/plain": [
              "         sample_size      approve   disapprove\n",
              "count    3304.000000  3323.000000  3311.000000\n",
              "mean     2129.879889    46.488862    48.170994\n",
              "std     10904.242431    24.905292    24.700076\n",
              "min        55.000000     1.000000     1.000000\n",
              "25%       385.750000    30.000000    29.000000\n",
              "50%       609.000000    42.000000    52.000000\n",
              "75%      1148.750000    65.000000    62.000000\n",
              "max    325970.000000    98.000000    98.000000"
            ]
          },
          "metadata": {},
          "execution_count": 13
        }
      ]
    },
    {
      "cell_type": "code",
      "source": [
        "approval[\"approve\"].sum"
      ],
      "metadata": {
        "colab": {
          "base_uri": "https://localhost:8080/"
        },
        "id": "PfHSn3GAUz9z",
        "outputId": "28e53390-06c5-43ef-94ba-2df243d0c77a"
      },
      "execution_count": null,
      "outputs": [
        {
          "output_type": "execute_result",
          "data": {
            "text/plain": [
              "<bound method NDFrame._add_numeric_operations.<locals>.sum of 0       42.0\n",
              "1       75.0\n",
              "2       21.0\n",
              "3       39.0\n",
              "4       57.0\n",
              "        ... \n",
              "3321    42.0\n",
              "3322    47.0\n",
              "3323    12.0\n",
              "3324    86.0\n",
              "3325    40.0\n",
              "Name: approve, Length: 3326, dtype: float64>"
            ]
          },
          "metadata": {},
          "execution_count": 8
        }
      ]
    },
    {
      "cell_type": "code",
      "source": [
        "approval = approval.drop([\"tracking\"], axis=1)"
      ],
      "metadata": {
        "id": "os2TDVCdXHwM"
      },
      "execution_count": null,
      "outputs": []
    },
    {
      "cell_type": "code",
      "source": [
        "approval.isnull().sum()"
      ],
      "metadata": {
        "colab": {
          "base_uri": "https://localhost:8080/"
        },
        "id": "B90DQxCGYaJM",
        "outputId": "2a4690b7-4b87-48e1-8130-3d91e5f8e9f3"
      },
      "execution_count": null,
      "outputs": [
        {
          "output_type": "execute_result",
          "data": {
            "text/plain": [
              "start_date      0\n",
              "end_date        0\n",
              "pollster        0\n",
              "sample_size    22\n",
              "population      0\n",
              "party           0\n",
              "subject         0\n",
              "text            2\n",
              "approve         3\n",
              "disapprove     15\n",
              "dtype: int64"
            ]
          },
          "metadata": {},
          "execution_count": 24
        }
      ]
    },
    {
      "cell_type": "code",
      "source": [
        "concern.head()"
      ],
      "metadata": {
        "colab": {
          "base_uri": "https://localhost:8080/",
          "height": 337
        },
        "id": "jd0SaYO_XrlY",
        "outputId": "e5b6c8b4-2edd-41b7-d22e-7848abd69917"
      },
      "execution_count": null,
      "outputs": [
        {
          "output_type": "execute_result",
          "data": {
            "text/html": [
              "\n",
              "  <div id=\"df-6c401f6d-23e3-44b2-a9c3-86d906ccdcba\">\n",
              "    <div class=\"colab-df-container\">\n",
              "      <div>\n",
              "<style scoped>\n",
              "    .dataframe tbody tr th:only-of-type {\n",
              "        vertical-align: middle;\n",
              "    }\n",
              "\n",
              "    .dataframe tbody tr th {\n",
              "        vertical-align: top;\n",
              "    }\n",
              "\n",
              "    .dataframe thead th {\n",
              "        text-align: right;\n",
              "    }\n",
              "</style>\n",
              "<table border=\"1\" class=\"dataframe\">\n",
              "  <thead>\n",
              "    <tr style=\"text-align: right;\">\n",
              "      <th></th>\n",
              "      <th>start_date</th>\n",
              "      <th>end_date</th>\n",
              "      <th>pollster</th>\n",
              "      <th>sponsor</th>\n",
              "      <th>sample_size</th>\n",
              "      <th>population</th>\n",
              "      <th>party</th>\n",
              "      <th>subject</th>\n",
              "      <th>tracking</th>\n",
              "      <th>text</th>\n",
              "      <th>very</th>\n",
              "      <th>somewhat</th>\n",
              "      <th>not_very</th>\n",
              "      <th>not_at_all</th>\n",
              "      <th>url</th>\n",
              "    </tr>\n",
              "  </thead>\n",
              "  <tbody>\n",
              "    <tr>\n",
              "      <th>0</th>\n",
              "      <td>2020-01-27</td>\n",
              "      <td>2020-01-29</td>\n",
              "      <td>Morning Consult</td>\n",
              "      <td>NaN</td>\n",
              "      <td>2202</td>\n",
              "      <td>a</td>\n",
              "      <td>all</td>\n",
              "      <td>concern-economy</td>\n",
              "      <td>False</td>\n",
              "      <td>How concerned are you that the coronavirus wil...</td>\n",
              "      <td>19.0</td>\n",
              "      <td>33.0</td>\n",
              "      <td>23.0</td>\n",
              "      <td>11.0</td>\n",
              "      <td>https://morningconsult.com/wp-content/uploads/...</td>\n",
              "    </tr>\n",
              "    <tr>\n",
              "      <th>1</th>\n",
              "      <td>2020-01-31</td>\n",
              "      <td>2020-02-02</td>\n",
              "      <td>Morning Consult</td>\n",
              "      <td>NaN</td>\n",
              "      <td>2202</td>\n",
              "      <td>a</td>\n",
              "      <td>all</td>\n",
              "      <td>concern-economy</td>\n",
              "      <td>False</td>\n",
              "      <td>How concerned are you that the coronavirus wil...</td>\n",
              "      <td>26.0</td>\n",
              "      <td>32.0</td>\n",
              "      <td>25.0</td>\n",
              "      <td>7.0</td>\n",
              "      <td>https://morningconsult.com/wp-content/uploads/...</td>\n",
              "    </tr>\n",
              "    <tr>\n",
              "      <th>2</th>\n",
              "      <td>2020-02-02</td>\n",
              "      <td>2020-02-04</td>\n",
              "      <td>YouGov</td>\n",
              "      <td>Economist</td>\n",
              "      <td>1500</td>\n",
              "      <td>a</td>\n",
              "      <td>all</td>\n",
              "      <td>concern-infected</td>\n",
              "      <td>False</td>\n",
              "      <td>Taking into consideration both your risk of co...</td>\n",
              "      <td>13.0</td>\n",
              "      <td>26.0</td>\n",
              "      <td>43.0</td>\n",
              "      <td>18.0</td>\n",
              "      <td>https://d25d2506sfb94s.cloudfront.net/cumulus_...</td>\n",
              "    </tr>\n",
              "    <tr>\n",
              "      <th>3</th>\n",
              "      <td>2020-02-07</td>\n",
              "      <td>2020-02-09</td>\n",
              "      <td>Morning Consult</td>\n",
              "      <td>NaN</td>\n",
              "      <td>2200</td>\n",
              "      <td>a</td>\n",
              "      <td>all</td>\n",
              "      <td>concern-economy</td>\n",
              "      <td>False</td>\n",
              "      <td>How concerned are you that the coronavirus wil...</td>\n",
              "      <td>23.0</td>\n",
              "      <td>32.0</td>\n",
              "      <td>24.0</td>\n",
              "      <td>9.0</td>\n",
              "      <td>https://morningconsult.com/wp-content/uploads/...</td>\n",
              "    </tr>\n",
              "    <tr>\n",
              "      <th>4</th>\n",
              "      <td>2020-02-07</td>\n",
              "      <td>2020-02-09</td>\n",
              "      <td>YouGov</td>\n",
              "      <td>Huffington Post</td>\n",
              "      <td>1000</td>\n",
              "      <td>a</td>\n",
              "      <td>all</td>\n",
              "      <td>concern-infected</td>\n",
              "      <td>False</td>\n",
              "      <td>How concerned are you that you or someone in y...</td>\n",
              "      <td>11.0</td>\n",
              "      <td>24.0</td>\n",
              "      <td>33.0</td>\n",
              "      <td>20.0</td>\n",
              "      <td>https://projects.fivethirtyeight.com/polls/202...</td>\n",
              "    </tr>\n",
              "  </tbody>\n",
              "</table>\n",
              "</div>\n",
              "      <button class=\"colab-df-convert\" onclick=\"convertToInteractive('df-6c401f6d-23e3-44b2-a9c3-86d906ccdcba')\"\n",
              "              title=\"Convert this dataframe to an interactive table.\"\n",
              "              style=\"display:none;\">\n",
              "        \n",
              "  <svg xmlns=\"http://www.w3.org/2000/svg\" height=\"24px\"viewBox=\"0 0 24 24\"\n",
              "       width=\"24px\">\n",
              "    <path d=\"M0 0h24v24H0V0z\" fill=\"none\"/>\n",
              "    <path d=\"M18.56 5.44l.94 2.06.94-2.06 2.06-.94-2.06-.94-.94-2.06-.94 2.06-2.06.94zm-11 1L8.5 8.5l.94-2.06 2.06-.94-2.06-.94L8.5 2.5l-.94 2.06-2.06.94zm10 10l.94 2.06.94-2.06 2.06-.94-2.06-.94-.94-2.06-.94 2.06-2.06.94z\"/><path d=\"M17.41 7.96l-1.37-1.37c-.4-.4-.92-.59-1.43-.59-.52 0-1.04.2-1.43.59L10.3 9.45l-7.72 7.72c-.78.78-.78 2.05 0 2.83L4 21.41c.39.39.9.59 1.41.59.51 0 1.02-.2 1.41-.59l7.78-7.78 2.81-2.81c.8-.78.8-2.07 0-2.86zM5.41 20L4 18.59l7.72-7.72 1.47 1.35L5.41 20z\"/>\n",
              "  </svg>\n",
              "      </button>\n",
              "      \n",
              "  <style>\n",
              "    .colab-df-container {\n",
              "      display:flex;\n",
              "      flex-wrap:wrap;\n",
              "      gap: 12px;\n",
              "    }\n",
              "\n",
              "    .colab-df-convert {\n",
              "      background-color: #E8F0FE;\n",
              "      border: none;\n",
              "      border-radius: 50%;\n",
              "      cursor: pointer;\n",
              "      display: none;\n",
              "      fill: #1967D2;\n",
              "      height: 32px;\n",
              "      padding: 0 0 0 0;\n",
              "      width: 32px;\n",
              "    }\n",
              "\n",
              "    .colab-df-convert:hover {\n",
              "      background-color: #E2EBFA;\n",
              "      box-shadow: 0px 1px 2px rgba(60, 64, 67, 0.3), 0px 1px 3px 1px rgba(60, 64, 67, 0.15);\n",
              "      fill: #174EA6;\n",
              "    }\n",
              "\n",
              "    [theme=dark] .colab-df-convert {\n",
              "      background-color: #3B4455;\n",
              "      fill: #D2E3FC;\n",
              "    }\n",
              "\n",
              "    [theme=dark] .colab-df-convert:hover {\n",
              "      background-color: #434B5C;\n",
              "      box-shadow: 0px 1px 3px 1px rgba(0, 0, 0, 0.15);\n",
              "      filter: drop-shadow(0px 1px 2px rgba(0, 0, 0, 0.3));\n",
              "      fill: #FFFFFF;\n",
              "    }\n",
              "  </style>\n",
              "\n",
              "      <script>\n",
              "        const buttonEl =\n",
              "          document.querySelector('#df-6c401f6d-23e3-44b2-a9c3-86d906ccdcba button.colab-df-convert');\n",
              "        buttonEl.style.display =\n",
              "          google.colab.kernel.accessAllowed ? 'block' : 'none';\n",
              "\n",
              "        async function convertToInteractive(key) {\n",
              "          const element = document.querySelector('#df-6c401f6d-23e3-44b2-a9c3-86d906ccdcba');\n",
              "          const dataTable =\n",
              "            await google.colab.kernel.invokeFunction('convertToInteractive',\n",
              "                                                     [key], {});\n",
              "          if (!dataTable) return;\n",
              "\n",
              "          const docLinkHtml = 'Like what you see? Visit the ' +\n",
              "            '<a target=\"_blank\" href=https://colab.research.google.com/notebooks/data_table.ipynb>data table notebook</a>'\n",
              "            + ' to learn more about interactive tables.';\n",
              "          element.innerHTML = '';\n",
              "          dataTable['output_type'] = 'display_data';\n",
              "          await google.colab.output.renderOutput(dataTable, element);\n",
              "          const docLink = document.createElement('div');\n",
              "          docLink.innerHTML = docLinkHtml;\n",
              "          element.appendChild(docLink);\n",
              "        }\n",
              "      </script>\n",
              "    </div>\n",
              "  </div>\n",
              "  "
            ],
            "text/plain": [
              "   start_date  ...                                                url\n",
              "0  2020-01-27  ...  https://morningconsult.com/wp-content/uploads/...\n",
              "1  2020-01-31  ...  https://morningconsult.com/wp-content/uploads/...\n",
              "2  2020-02-02  ...  https://d25d2506sfb94s.cloudfront.net/cumulus_...\n",
              "3  2020-02-07  ...  https://morningconsult.com/wp-content/uploads/...\n",
              "4  2020-02-07  ...  https://projects.fivethirtyeight.com/polls/202...\n",
              "\n",
              "[5 rows x 15 columns]"
            ]
          },
          "metadata": {},
          "execution_count": 17
        }
      ]
    },
    {
      "cell_type": "code",
      "source": [
        "concern = concern.drop(['tracking'], axis = 1)"
      ],
      "metadata": {
        "id": "te6YQsdNX9da"
      },
      "execution_count": null,
      "outputs": []
    },
    {
      "cell_type": "code",
      "source": [
        "concern.isnull().sum()"
      ],
      "metadata": {
        "colab": {
          "base_uri": "https://localhost:8080/"
        },
        "id": "jBaYpKsYYTn2",
        "outputId": "22ebe2da-dd28-44fe-c9ef-c5cd7bd843a5"
      },
      "execution_count": null,
      "outputs": [
        {
          "output_type": "execute_result",
          "data": {
            "text/plain": [
              "start_date     0\n",
              "end_date       0\n",
              "pollster       0\n",
              "sample_size    0\n",
              "population     0\n",
              "party          0\n",
              "subject        0\n",
              "text           0\n",
              "very           0\n",
              "somewhat       1\n",
              "not_very       0\n",
              "not_at_all     7\n",
              "dtype: int64"
            ]
          },
          "metadata": {},
          "execution_count": 26
        }
      ]
    },
    {
      "cell_type": "code",
      "source": [
        "approval_trump = approval.iloc[0:2226]\n",
        "approval_biden = approval.iloc[2227:3326]"
      ],
      "metadata": {
        "id": "m5iDDoX2bLQe"
      },
      "execution_count": null,
      "outputs": []
    },
    {
      "cell_type": "code",
      "source": [
        "approval_trump"
      ],
      "metadata": {
        "colab": {
          "base_uri": "https://localhost:8080/",
          "height": 423
        },
        "id": "GCsenQs2baNZ",
        "outputId": "d0dab224-ce27-4dcb-e2fb-614e2a3f1ef9"
      },
      "execution_count": null,
      "outputs": [
        {
          "output_type": "execute_result",
          "data": {
            "text/html": [
              "\n",
              "  <div id=\"df-aa8c5fee-8bf0-4dca-9d1b-6d28229e669a\">\n",
              "    <div class=\"colab-df-container\">\n",
              "      <div>\n",
              "<style scoped>\n",
              "    .dataframe tbody tr th:only-of-type {\n",
              "        vertical-align: middle;\n",
              "    }\n",
              "\n",
              "    .dataframe tbody tr th {\n",
              "        vertical-align: top;\n",
              "    }\n",
              "\n",
              "    .dataframe thead th {\n",
              "        text-align: right;\n",
              "    }\n",
              "</style>\n",
              "<table border=\"1\" class=\"dataframe\">\n",
              "  <thead>\n",
              "    <tr style=\"text-align: right;\">\n",
              "      <th></th>\n",
              "      <th>start_date</th>\n",
              "      <th>end_date</th>\n",
              "      <th>pollster</th>\n",
              "      <th>sample_size</th>\n",
              "      <th>population</th>\n",
              "      <th>party</th>\n",
              "      <th>subject</th>\n",
              "      <th>text</th>\n",
              "      <th>approve</th>\n",
              "      <th>disapprove</th>\n",
              "    </tr>\n",
              "  </thead>\n",
              "  <tbody>\n",
              "    <tr>\n",
              "      <th>0</th>\n",
              "      <td>2020-02-02</td>\n",
              "      <td>2020-02-04</td>\n",
              "      <td>YouGov</td>\n",
              "      <td>1500.0</td>\n",
              "      <td>a</td>\n",
              "      <td>all</td>\n",
              "      <td>Trump</td>\n",
              "      <td>Do you approve or disapprove of Donald Trump’s...</td>\n",
              "      <td>42.0</td>\n",
              "      <td>29.0</td>\n",
              "    </tr>\n",
              "    <tr>\n",
              "      <th>1</th>\n",
              "      <td>2020-02-02</td>\n",
              "      <td>2020-02-04</td>\n",
              "      <td>YouGov</td>\n",
              "      <td>376.0</td>\n",
              "      <td>a</td>\n",
              "      <td>R</td>\n",
              "      <td>Trump</td>\n",
              "      <td>Do you approve or disapprove of Donald Trump’s...</td>\n",
              "      <td>75.0</td>\n",
              "      <td>6.0</td>\n",
              "    </tr>\n",
              "    <tr>\n",
              "      <th>2</th>\n",
              "      <td>2020-02-02</td>\n",
              "      <td>2020-02-04</td>\n",
              "      <td>YouGov</td>\n",
              "      <td>523.0</td>\n",
              "      <td>a</td>\n",
              "      <td>D</td>\n",
              "      <td>Trump</td>\n",
              "      <td>Do you approve or disapprove of Donald Trump’s...</td>\n",
              "      <td>21.0</td>\n",
              "      <td>51.0</td>\n",
              "    </tr>\n",
              "    <tr>\n",
              "      <th>3</th>\n",
              "      <td>2020-02-02</td>\n",
              "      <td>2020-02-04</td>\n",
              "      <td>YouGov</td>\n",
              "      <td>599.0</td>\n",
              "      <td>a</td>\n",
              "      <td>I</td>\n",
              "      <td>Trump</td>\n",
              "      <td>Do you approve or disapprove of Donald Trump’s...</td>\n",
              "      <td>39.0</td>\n",
              "      <td>25.0</td>\n",
              "    </tr>\n",
              "    <tr>\n",
              "      <th>4</th>\n",
              "      <td>2020-02-07</td>\n",
              "      <td>2020-02-09</td>\n",
              "      <td>Morning Consult</td>\n",
              "      <td>2200.0</td>\n",
              "      <td>a</td>\n",
              "      <td>all</td>\n",
              "      <td>Trump</td>\n",
              "      <td>Do you approve or disapprove of the job each o...</td>\n",
              "      <td>57.0</td>\n",
              "      <td>22.0</td>\n",
              "    </tr>\n",
              "    <tr>\n",
              "      <th>...</th>\n",
              "      <td>...</td>\n",
              "      <td>...</td>\n",
              "      <td>...</td>\n",
              "      <td>...</td>\n",
              "      <td>...</td>\n",
              "      <td>...</td>\n",
              "      <td>...</td>\n",
              "      <td>...</td>\n",
              "      <td>...</td>\n",
              "      <td>...</td>\n",
              "    </tr>\n",
              "    <tr>\n",
              "      <th>2221</th>\n",
              "      <td>2021-01-16</td>\n",
              "      <td>2021-01-19</td>\n",
              "      <td>American Research Group</td>\n",
              "      <td>332.0</td>\n",
              "      <td>a</td>\n",
              "      <td>I</td>\n",
              "      <td>Trump</td>\n",
              "      <td>Do you approve or disapprove of the way Donald...</td>\n",
              "      <td>31.0</td>\n",
              "      <td>68.0</td>\n",
              "    </tr>\n",
              "    <tr>\n",
              "      <th>2222</th>\n",
              "      <td>2021-01-16</td>\n",
              "      <td>2021-01-19</td>\n",
              "      <td>YouGov</td>\n",
              "      <td>1500.0</td>\n",
              "      <td>a</td>\n",
              "      <td>all</td>\n",
              "      <td>Trump</td>\n",
              "      <td>Do you approve or disapprove of the way Donald...</td>\n",
              "      <td>40.0</td>\n",
              "      <td>53.0</td>\n",
              "    </tr>\n",
              "    <tr>\n",
              "      <th>2223</th>\n",
              "      <td>2021-01-16</td>\n",
              "      <td>2021-01-19</td>\n",
              "      <td>YouGov</td>\n",
              "      <td>293.0</td>\n",
              "      <td>a</td>\n",
              "      <td>R</td>\n",
              "      <td>Trump</td>\n",
              "      <td>Do you approve or disapprove of the way Donald...</td>\n",
              "      <td>80.0</td>\n",
              "      <td>16.0</td>\n",
              "    </tr>\n",
              "    <tr>\n",
              "      <th>2224</th>\n",
              "      <td>2021-01-16</td>\n",
              "      <td>2021-01-19</td>\n",
              "      <td>YouGov</td>\n",
              "      <td>601.0</td>\n",
              "      <td>a</td>\n",
              "      <td>D</td>\n",
              "      <td>Trump</td>\n",
              "      <td>Do you approve or disapprove of the way Donald...</td>\n",
              "      <td>11.0</td>\n",
              "      <td>87.0</td>\n",
              "    </tr>\n",
              "    <tr>\n",
              "      <th>2225</th>\n",
              "      <td>2021-01-16</td>\n",
              "      <td>2021-01-19</td>\n",
              "      <td>YouGov</td>\n",
              "      <td>600.0</td>\n",
              "      <td>a</td>\n",
              "      <td>I</td>\n",
              "      <td>Trump</td>\n",
              "      <td>Do you approve or disapprove of the way Donald...</td>\n",
              "      <td>38.0</td>\n",
              "      <td>50.0</td>\n",
              "    </tr>\n",
              "  </tbody>\n",
              "</table>\n",
              "<p>2226 rows × 10 columns</p>\n",
              "</div>\n",
              "      <button class=\"colab-df-convert\" onclick=\"convertToInteractive('df-aa8c5fee-8bf0-4dca-9d1b-6d28229e669a')\"\n",
              "              title=\"Convert this dataframe to an interactive table.\"\n",
              "              style=\"display:none;\">\n",
              "        \n",
              "  <svg xmlns=\"http://www.w3.org/2000/svg\" height=\"24px\"viewBox=\"0 0 24 24\"\n",
              "       width=\"24px\">\n",
              "    <path d=\"M0 0h24v24H0V0z\" fill=\"none\"/>\n",
              "    <path d=\"M18.56 5.44l.94 2.06.94-2.06 2.06-.94-2.06-.94-.94-2.06-.94 2.06-2.06.94zm-11 1L8.5 8.5l.94-2.06 2.06-.94-2.06-.94L8.5 2.5l-.94 2.06-2.06.94zm10 10l.94 2.06.94-2.06 2.06-.94-2.06-.94-.94-2.06-.94 2.06-2.06.94z\"/><path d=\"M17.41 7.96l-1.37-1.37c-.4-.4-.92-.59-1.43-.59-.52 0-1.04.2-1.43.59L10.3 9.45l-7.72 7.72c-.78.78-.78 2.05 0 2.83L4 21.41c.39.39.9.59 1.41.59.51 0 1.02-.2 1.41-.59l7.78-7.78 2.81-2.81c.8-.78.8-2.07 0-2.86zM5.41 20L4 18.59l7.72-7.72 1.47 1.35L5.41 20z\"/>\n",
              "  </svg>\n",
              "      </button>\n",
              "      \n",
              "  <style>\n",
              "    .colab-df-container {\n",
              "      display:flex;\n",
              "      flex-wrap:wrap;\n",
              "      gap: 12px;\n",
              "    }\n",
              "\n",
              "    .colab-df-convert {\n",
              "      background-color: #E8F0FE;\n",
              "      border: none;\n",
              "      border-radius: 50%;\n",
              "      cursor: pointer;\n",
              "      display: none;\n",
              "      fill: #1967D2;\n",
              "      height: 32px;\n",
              "      padding: 0 0 0 0;\n",
              "      width: 32px;\n",
              "    }\n",
              "\n",
              "    .colab-df-convert:hover {\n",
              "      background-color: #E2EBFA;\n",
              "      box-shadow: 0px 1px 2px rgba(60, 64, 67, 0.3), 0px 1px 3px 1px rgba(60, 64, 67, 0.15);\n",
              "      fill: #174EA6;\n",
              "    }\n",
              "\n",
              "    [theme=dark] .colab-df-convert {\n",
              "      background-color: #3B4455;\n",
              "      fill: #D2E3FC;\n",
              "    }\n",
              "\n",
              "    [theme=dark] .colab-df-convert:hover {\n",
              "      background-color: #434B5C;\n",
              "      box-shadow: 0px 1px 3px 1px rgba(0, 0, 0, 0.15);\n",
              "      filter: drop-shadow(0px 1px 2px rgba(0, 0, 0, 0.3));\n",
              "      fill: #FFFFFF;\n",
              "    }\n",
              "  </style>\n",
              "\n",
              "      <script>\n",
              "        const buttonEl =\n",
              "          document.querySelector('#df-aa8c5fee-8bf0-4dca-9d1b-6d28229e669a button.colab-df-convert');\n",
              "        buttonEl.style.display =\n",
              "          google.colab.kernel.accessAllowed ? 'block' : 'none';\n",
              "\n",
              "        async function convertToInteractive(key) {\n",
              "          const element = document.querySelector('#df-aa8c5fee-8bf0-4dca-9d1b-6d28229e669a');\n",
              "          const dataTable =\n",
              "            await google.colab.kernel.invokeFunction('convertToInteractive',\n",
              "                                                     [key], {});\n",
              "          if (!dataTable) return;\n",
              "\n",
              "          const docLinkHtml = 'Like what you see? Visit the ' +\n",
              "            '<a target=\"_blank\" href=https://colab.research.google.com/notebooks/data_table.ipynb>data table notebook</a>'\n",
              "            + ' to learn more about interactive tables.';\n",
              "          element.innerHTML = '';\n",
              "          dataTable['output_type'] = 'display_data';\n",
              "          await google.colab.output.renderOutput(dataTable, element);\n",
              "          const docLink = document.createElement('div');\n",
              "          docLink.innerHTML = docLinkHtml;\n",
              "          element.appendChild(docLink);\n",
              "        }\n",
              "      </script>\n",
              "    </div>\n",
              "  </div>\n",
              "  "
            ],
            "text/plain": [
              "      start_date    end_date  ... approve  disapprove\n",
              "0     2020-02-02  2020-02-04  ...    42.0        29.0\n",
              "1     2020-02-02  2020-02-04  ...    75.0         6.0\n",
              "2     2020-02-02  2020-02-04  ...    21.0        51.0\n",
              "3     2020-02-02  2020-02-04  ...    39.0        25.0\n",
              "4     2020-02-07  2020-02-09  ...    57.0        22.0\n",
              "...          ...         ...  ...     ...         ...\n",
              "2221  2021-01-16  2021-01-19  ...    31.0        68.0\n",
              "2222  2021-01-16  2021-01-19  ...    40.0        53.0\n",
              "2223  2021-01-16  2021-01-19  ...    80.0        16.0\n",
              "2224  2021-01-16  2021-01-19  ...    11.0        87.0\n",
              "2225  2021-01-16  2021-01-19  ...    38.0        50.0\n",
              "\n",
              "[2226 rows x 10 columns]"
            ]
          },
          "metadata": {},
          "execution_count": 34
        }
      ]
    },
    {
      "cell_type": "code",
      "source": [
        "sns.relplot(x = \"approve\", y = \"disapprove\", hue = \"subject\", data = approval)"
      ],
      "metadata": {
        "colab": {
          "base_uri": "https://localhost:8080/",
          "height": 388
        },
        "id": "yBrwiZ6TZDhr",
        "outputId": "d46a20e1-acf5-4239-a77b-3ba1a8e7683a"
      },
      "execution_count": null,
      "outputs": [
        {
          "output_type": "execute_result",
          "data": {
            "text/plain": [
              "<seaborn.axisgrid.FacetGrid at 0x7f621beffc90>"
            ]
          },
          "metadata": {},
          "execution_count": 29
        },
        {
          "output_type": "display_data",
          "data": {
            "image/png": "[encoded data removed]",
            "text/plain": [
              "<Figure size 426.875x360 with 1 Axes>"
            ]
          },
          "metadata": {
            "needs_background": "light"
          }
        }
      ]
    },
    {
      "cell_type": "code",
      "source": [
        "sns.relplot(x = \"approve\", y = \"disapprove\", hue = \"party\", data = approval_trump).set(title = \"Trump\")"
      ],
      "metadata": {
        "colab": {
          "base_uri": "https://localhost:8080/",
          "height": 404
        },
        "id": "43Z2DRGuZsA4",
        "outputId": "fc8bd424-c1db-4ea6-b5ae-3be88b3b905a"
      },
      "execution_count": null,
      "outputs": [
        {
          "output_type": "execute_result",
          "data": {
            "text/plain": [
              "<seaborn.axisgrid.FacetGrid at 0x7f621d8adc10>"
            ]
          },
          "metadata": {},
          "execution_count": 37
        },
        {
          "output_type": "display_data",
          "data": {
            "image/png": "[encoded data removed]",
            "text/plain": [
              "<Figure size 407.875x360 with 1 Axes>"
            ]
          },
          "metadata": {
            "needs_background": "light"
          }
        }
      ]
    },
    {
      "cell_type": "code",
      "source": [
        "sns.relplot(x = \"approve\", y = \"disapprove\", hue = \"party\", data = approval_biden).set(title = \"Biden\")"
      ],
      "metadata": {
        "colab": {
          "base_uri": "https://localhost:8080/",
          "height": 404
        },
        "id": "V_v2mPNBZ43Z",
        "outputId": "067c100b-3c13-4bd3-e837-7616f54d0e33"
      },
      "execution_count": null,
      "outputs": [
        {
          "output_type": "execute_result",
          "data": {
            "text/plain": [
              "<seaborn.axisgrid.FacetGrid at 0x7f621b76f450>"
            ]
          },
          "metadata": {},
          "execution_count": 38
        },
        {
          "output_type": "display_data",
          "data": {
            "image/png": "[encoded data removed]",
            "text/plain": [
              "<Figure size 407.875x360 with 1 Axes>"
            ]
          },
          "metadata": {
            "needs_background": "light"
          }
        }
      ]
    },
    {
      "cell_type": "code",
      "source": [
        "sns.relplot(x = \"approve\", y = \"disapprove\", hue = \"population\", data = approval_trump).set(title = \"Trump\")"
      ],
      "metadata": {
        "colab": {
          "base_uri": "https://localhost:8080/",
          "height": 404
        },
        "id": "xsP88cXXcxLn",
        "outputId": "19afcf18-eee4-4fa7-c521-627643d7b650"
      },
      "execution_count": null,
      "outputs": [
        {
          "output_type": "execute_result",
          "data": {
            "text/plain": [
              "<seaborn.axisgrid.FacetGrid at 0x7f6219eea910>"
            ]
          },
          "metadata": {},
          "execution_count": 40
        },
        {
          "output_type": "display_data",
          "data": {
            "image/png": "[encoded data removed]",
            "text/plain": [
              "<Figure size 421x360 with 1 Axes>"
            ]
          },
          "metadata": {
            "needs_background": "light"
          }
        }
      ]
    },
    {
      "cell_type": "code",
      "source": [
        "sns.relplot(x = \"approve\", y = \"disapprove\", hue = \"population\", data = approval_biden).set(title = \"Biden\")"
      ],
      "metadata": {
        "colab": {
          "base_uri": "https://localhost:8080/",
          "height": 404
        },
        "id": "rZU7IWqddFQ1",
        "outputId": "b988b15e-046e-4a1f-cb86-2cfd530d0099"
      },
      "execution_count": null,
      "outputs": [
        {
          "output_type": "execute_result",
          "data": {
            "text/plain": [
              "<seaborn.axisgrid.FacetGrid at 0x7f62183510d0>"
            ]
          },
          "metadata": {},
          "execution_count": 41
        },
        {
          "output_type": "display_data",
          "data": {
            "image/png": "[encoded data removed]",
            "text/plain": [
              "<Figure size 421x360 with 1 Axes>"
            ]
          },
          "metadata": {
            "needs_background": "light"
          }
        }
      ]
    },
    {
      "cell_type": "code",
      "source": [
        "concern.nunique()"
      ],
      "metadata": {
        "colab": {
          "base_uri": "https://localhost:8080/"
        },
        "id": "undD3TTwdKUR",
        "outputId": "452afa19-7af9-4ef5-8d34-75ddc792269b"
      },
      "execution_count": null,
      "outputs": [
        {
          "output_type": "execute_result",
          "data": {
            "text/plain": [
              "start_date     274\n",
              "end_date       263\n",
              "pollster        41\n",
              "sample_size    280\n",
              "population       3\n",
              "party            1\n",
              "subject          2\n",
              "text            90\n",
              "very           107\n",
              "somewhat        70\n",
              "not_very        81\n",
              "not_at_all      67\n",
              "dtype: int64"
            ]
          },
          "metadata": {},
          "execution_count": 42
        }
      ]
    },
    {
      "cell_type": "code",
      "source": [
        "concern = concern.sort_values([\"subject\"])"
      ],
      "metadata": {
        "id": "iiF8NXGKehfP"
      },
      "execution_count": null,
      "outputs": []
    },
    {
      "cell_type": "code",
      "source": [
        "concern.head()"
      ],
      "metadata": {
        "colab": {
          "base_uri": "https://localhost:8080/",
          "height": 206
        },
        "id": "yQexJ0JBfFnS",
        "outputId": "b96c251f-284f-411b-b57e-8779224749f4"
      },
      "execution_count": null,
      "outputs": [
        {
          "output_type": "execute_result",
          "data": {
            "text/html": [
              "\n",
              "  <div id=\"df-d6fc4b97-9e62-45f1-aaea-e3d3dd658591\">\n",
              "    <div class=\"colab-df-container\">\n",
              "      <div>\n",
              "<style scoped>\n",
              "    .dataframe tbody tr th:only-of-type {\n",
              "        vertical-align: middle;\n",
              "    }\n",
              "\n",
              "    .dataframe tbody tr th {\n",
              "        vertical-align: top;\n",
              "    }\n",
              "\n",
              "    .dataframe thead th {\n",
              "        text-align: right;\n",
              "    }\n",
              "</style>\n",
              "<table border=\"1\" class=\"dataframe\">\n",
              "  <thead>\n",
              "    <tr style=\"text-align: right;\">\n",
              "      <th></th>\n",
              "      <th>start_date</th>\n",
              "      <th>end_date</th>\n",
              "      <th>pollster</th>\n",
              "      <th>sample_size</th>\n",
              "      <th>population</th>\n",
              "      <th>party</th>\n",
              "      <th>subject</th>\n",
              "      <th>text</th>\n",
              "      <th>very</th>\n",
              "      <th>somewhat</th>\n",
              "      <th>not_very</th>\n",
              "      <th>not_at_all</th>\n",
              "    </tr>\n",
              "  </thead>\n",
              "  <tbody>\n",
              "    <tr>\n",
              "      <th>0</th>\n",
              "      <td>2020-01-27</td>\n",
              "      <td>2020-01-29</td>\n",
              "      <td>Morning Consult</td>\n",
              "      <td>2202</td>\n",
              "      <td>a</td>\n",
              "      <td>all</td>\n",
              "      <td>concern-economy</td>\n",
              "      <td>How concerned are you that the coronavirus wil...</td>\n",
              "      <td>19.0</td>\n",
              "      <td>33.0</td>\n",
              "      <td>23.0</td>\n",
              "      <td>11.0</td>\n",
              "    </tr>\n",
              "    <tr>\n",
              "      <th>525</th>\n",
              "      <td>2020-09-14</td>\n",
              "      <td>2020-09-20</td>\n",
              "      <td>SurveyMonkey</td>\n",
              "      <td>36454</td>\n",
              "      <td>a</td>\n",
              "      <td>all</td>\n",
              "      <td>concern-economy</td>\n",
              "      <td>How worried are you that the coronavirus outbr...</td>\n",
              "      <td>61.0</td>\n",
              "      <td>28.0</td>\n",
              "      <td>7.0</td>\n",
              "      <td>3.0</td>\n",
              "    </tr>\n",
              "    <tr>\n",
              "      <th>213</th>\n",
              "      <td>2020-04-25</td>\n",
              "      <td>2020-04-27</td>\n",
              "      <td>Harris Poll</td>\n",
              "      <td>2050</td>\n",
              "      <td>a</td>\n",
              "      <td>all</td>\n",
              "      <td>concern-economy</td>\n",
              "      <td>How concerned are you about the impact coronav...</td>\n",
              "      <td>57.0</td>\n",
              "      <td>30.0</td>\n",
              "      <td>8.0</td>\n",
              "      <td>5.0</td>\n",
              "    </tr>\n",
              "    <tr>\n",
              "      <th>214</th>\n",
              "      <td>2020-04-24</td>\n",
              "      <td>2020-04-27</td>\n",
              "      <td>Ipsos</td>\n",
              "      <td>1021</td>\n",
              "      <td>a</td>\n",
              "      <td>all</td>\n",
              "      <td>concern-economy</td>\n",
              "      <td>How concerned are you, if at all, with the fol...</td>\n",
              "      <td>61.0</td>\n",
              "      <td>26.0</td>\n",
              "      <td>8.0</td>\n",
              "      <td>4.0</td>\n",
              "    </tr>\n",
              "    <tr>\n",
              "      <th>215</th>\n",
              "      <td>2020-04-22</td>\n",
              "      <td>2020-04-27</td>\n",
              "      <td>Global Strategy Group/GBAO/Navigator Research</td>\n",
              "      <td>1031</td>\n",
              "      <td>rv</td>\n",
              "      <td>all</td>\n",
              "      <td>concern-economy</td>\n",
              "      <td>Below are some things some people might be wor...</td>\n",
              "      <td>42.0</td>\n",
              "      <td>45.0</td>\n",
              "      <td>10.0</td>\n",
              "      <td>2.0</td>\n",
              "    </tr>\n",
              "  </tbody>\n",
              "</table>\n",
              "</div>\n",
              "      <button class=\"colab-df-convert\" onclick=\"convertToInteractive('df-d6fc4b97-9e62-45f1-aaea-e3d3dd658591')\"\n",
              "              title=\"Convert this dataframe to an interactive table.\"\n",
              "              style=\"display:none;\">\n",
              "        \n",
              "  <svg xmlns=\"http://www.w3.org/2000/svg\" height=\"24px\"viewBox=\"0 0 24 24\"\n",
              "       width=\"24px\">\n",
              "    <path d=\"M0 0h24v24H0V0z\" fill=\"none\"/>\n",
              "    <path d=\"M18.56 5.44l.94 2.06.94-2.06 2.06-.94-2.06-.94-.94-2.06-.94 2.06-2.06.94zm-11 1L8.5 8.5l.94-2.06 2.06-.94-2.06-.94L8.5 2.5l-.94 2.06-2.06.94zm10 10l.94 2.06.94-2.06 2.06-.94-2.06-.94-.94-2.06-.94 2.06-2.06.94z\"/><path d=\"M17.41 7.96l-1.37-1.37c-.4-.4-.92-.59-1.43-.59-.52 0-1.04.2-1.43.59L10.3 9.45l-7.72 7.72c-.78.78-.78 2.05 0 2.83L4 21.41c.39.39.9.59 1.41.59.51 0 1.02-.2 1.41-.59l7.78-7.78 2.81-2.81c.8-.78.8-2.07 0-2.86zM5.41 20L4 18.59l7.72-7.72 1.47 1.35L5.41 20z\"/>\n",
              "  </svg>\n",
              "      </button>\n",
              "      \n",
              "  <style>\n",
              "    .colab-df-container {\n",
              "      display:flex;\n",
              "      flex-wrap:wrap;\n",
              "      gap: 12px;\n",
              "    }\n",
              "\n",
              "    .colab-df-convert {\n",
              "      background-color: #E8F0FE;\n",
              "      border: none;\n",
              "      border-radius: 50%;\n",
              "      cursor: pointer;\n",
              "      display: none;\n",
              "      fill: #1967D2;\n",
              "      height: 32px;\n",
              "      padding: 0 0 0 0;\n",
              "      width: 32px;\n",
              "    }\n",
              "\n",
              "    .colab-df-convert:hover {\n",
              "      background-color: #E2EBFA;\n",
              "      box-shadow: 0px 1px 2px rgba(60, 64, 67, 0.3), 0px 1px 3px 1px rgba(60, 64, 67, 0.15);\n",
              "      fill: #174EA6;\n",
              "    }\n",
              "\n",
              "    [theme=dark] .colab-df-convert {\n",
              "      background-color: #3B4455;\n",
              "      fill: #D2E3FC;\n",
              "    }\n",
              "\n",
              "    [theme=dark] .colab-df-convert:hover {\n",
              "      background-color: #434B5C;\n",
              "      box-shadow: 0px 1px 3px 1px rgba(0, 0, 0, 0.15);\n",
              "      filter: drop-shadow(0px 1px 2px rgba(0, 0, 0, 0.3));\n",
              "      fill: #FFFFFF;\n",
              "    }\n",
              "  </style>\n",
              "\n",
              "      <script>\n",
              "        const buttonEl =\n",
              "          document.querySelector('#df-d6fc4b97-9e62-45f1-aaea-e3d3dd658591 button.colab-df-convert');\n",
              "        buttonEl.style.display =\n",
              "          google.colab.kernel.accessAllowed ? 'block' : 'none';\n",
              "\n",
              "        async function convertToInteractive(key) {\n",
              "          const element = document.querySelector('#df-d6fc4b97-9e62-45f1-aaea-e3d3dd658591');\n",
              "          const dataTable =\n",
              "            await google.colab.kernel.invokeFunction('convertToInteractive',\n",
              "                                                     [key], {});\n",
              "          if (!dataTable) return;\n",
              "\n",
              "          const docLinkHtml = 'Like what you see? Visit the ' +\n",
              "            '<a target=\"_blank\" href=https://colab.research.google.com/notebooks/data_table.ipynb>data table notebook</a>'\n",
              "            + ' to learn more about interactive tables.';\n",
              "          element.innerHTML = '';\n",
              "          dataTable['output_type'] = 'display_data';\n",
              "          await google.colab.output.renderOutput(dataTable, element);\n",
              "          const docLink = document.createElement('div');\n",
              "          docLink.innerHTML = docLinkHtml;\n",
              "          element.appendChild(docLink);\n",
              "        }\n",
              "      </script>\n",
              "    </div>\n",
              "  </div>\n",
              "  "
            ],
            "text/plain": [
              "     start_date    end_date  ... not_very  not_at_all\n",
              "0    2020-01-27  2020-01-29  ...     23.0        11.0\n",
              "525  2020-09-14  2020-09-20  ...      7.0         3.0\n",
              "213  2020-04-25  2020-04-27  ...      8.0         5.0\n",
              "214  2020-04-24  2020-04-27  ...      8.0         4.0\n",
              "215  2020-04-22  2020-04-27  ...     10.0         2.0\n",
              "\n",
              "[5 rows x 12 columns]"
            ]
          },
          "metadata": {},
          "execution_count": 44
        }
      ]
    },
    {
      "cell_type": "code",
      "source": [
        "concern.tail()"
      ],
      "metadata": {
        "colab": {
          "base_uri": "https://localhost:8080/",
          "height": 206
        },
        "id": "HdkJG0qnfIGH",
        "outputId": "e9ce860a-bf39-485c-95b2-cbb5f8d87f23"
      },
      "execution_count": null,
      "outputs": [
        {
          "output_type": "execute_result",
          "data": {
            "text/html": [
              "\n",
              "  <div id=\"df-a9e4f493-5bee-428e-9154-b1bb41b5c167\">\n",
              "    <div class=\"colab-df-container\">\n",
              "      <div>\n",
              "<style scoped>\n",
              "    .dataframe tbody tr th:only-of-type {\n",
              "        vertical-align: middle;\n",
              "    }\n",
              "\n",
              "    .dataframe tbody tr th {\n",
              "        vertical-align: top;\n",
              "    }\n",
              "\n",
              "    .dataframe thead th {\n",
              "        text-align: right;\n",
              "    }\n",
              "</style>\n",
              "<table border=\"1\" class=\"dataframe\">\n",
              "  <thead>\n",
              "    <tr style=\"text-align: right;\">\n",
              "      <th></th>\n",
              "      <th>start_date</th>\n",
              "      <th>end_date</th>\n",
              "      <th>pollster</th>\n",
              "      <th>sample_size</th>\n",
              "      <th>population</th>\n",
              "      <th>party</th>\n",
              "      <th>subject</th>\n",
              "      <th>text</th>\n",
              "      <th>very</th>\n",
              "      <th>somewhat</th>\n",
              "      <th>not_very</th>\n",
              "      <th>not_at_all</th>\n",
              "    </tr>\n",
              "  </thead>\n",
              "  <tbody>\n",
              "    <tr>\n",
              "      <th>267</th>\n",
              "      <td>2020-05-05</td>\n",
              "      <td>2020-05-08</td>\n",
              "      <td>Global Strategy Group/GBAO/Navigator Research</td>\n",
              "      <td>1022</td>\n",
              "      <td>rv</td>\n",
              "      <td>all</td>\n",
              "      <td>concern-infected</td>\n",
              "      <td>Below are some things some people might be wor...</td>\n",
              "      <td>30.0</td>\n",
              "      <td>36.0</td>\n",
              "      <td>25.0</td>\n",
              "      <td>10.0</td>\n",
              "    </tr>\n",
              "    <tr>\n",
              "      <th>268</th>\n",
              "      <td>2020-05-05</td>\n",
              "      <td>2020-05-08</td>\n",
              "      <td>Global Strategy Group/GBAO/Navigator Research</td>\n",
              "      <td>1022</td>\n",
              "      <td>rv</td>\n",
              "      <td>all</td>\n",
              "      <td>concern-infected</td>\n",
              "      <td>Below are some things some people might be wor...</td>\n",
              "      <td>44.0</td>\n",
              "      <td>34.0</td>\n",
              "      <td>16.0</td>\n",
              "      <td>5.0</td>\n",
              "    </tr>\n",
              "    <tr>\n",
              "      <th>269</th>\n",
              "      <td>2020-05-02</td>\n",
              "      <td>2020-05-09</td>\n",
              "      <td>Firehouse Strategies/Øptimus</td>\n",
              "      <td>821</td>\n",
              "      <td>a</td>\n",
              "      <td>all</td>\n",
              "      <td>concern-infected</td>\n",
              "      <td>How worried are you about the possibility that...</td>\n",
              "      <td>31.6</td>\n",
              "      <td>39.9</td>\n",
              "      <td>18.8</td>\n",
              "      <td>8.7</td>\n",
              "    </tr>\n",
              "    <tr>\n",
              "      <th>261</th>\n",
              "      <td>2020-05-01</td>\n",
              "      <td>2020-05-06</td>\n",
              "      <td>Global Strategy Group/GBAO/Navigator Research</td>\n",
              "      <td>1014</td>\n",
              "      <td>rv</td>\n",
              "      <td>all</td>\n",
              "      <td>concern-infected</td>\n",
              "      <td>Below are some things some people might be wor...</td>\n",
              "      <td>45.0</td>\n",
              "      <td>33.0</td>\n",
              "      <td>16.0</td>\n",
              "      <td>7.0</td>\n",
              "    </tr>\n",
              "    <tr>\n",
              "      <th>677</th>\n",
              "      <td>2021-03-08</td>\n",
              "      <td>2021-03-30</td>\n",
              "      <td>Public Religion Research Institute</td>\n",
              "      <td>5625</td>\n",
              "      <td>a</td>\n",
              "      <td>all</td>\n",
              "      <td>concern-infected</td>\n",
              "      <td>How worried, if at all, are you about each of ...</td>\n",
              "      <td>23.0</td>\n",
              "      <td>39.0</td>\n",
              "      <td>27.0</td>\n",
              "      <td>11.0</td>\n",
              "    </tr>\n",
              "  </tbody>\n",
              "</table>\n",
              "</div>\n",
              "      <button class=\"colab-df-convert\" onclick=\"convertToInteractive('df-a9e4f493-5bee-428e-9154-b1bb41b5c167')\"\n",
              "              title=\"Convert this dataframe to an interactive table.\"\n",
              "              style=\"display:none;\">\n",
              "        \n",
              "  <svg xmlns=\"http://www.w3.org/2000/svg\" height=\"24px\"viewBox=\"0 0 24 24\"\n",
              "       width=\"24px\">\n",
              "    <path d=\"M0 0h24v24H0V0z\" fill=\"none\"/>\n",
              "    <path d=\"M18.56 5.44l.94 2.06.94-2.06 2.06-.94-2.06-.94-.94-2.06-.94 2.06-2.06.94zm-11 1L8.5 8.5l.94-2.06 2.06-.94-2.06-.94L8.5 2.5l-.94 2.06-2.06.94zm10 10l.94 2.06.94-2.06 2.06-.94-2.06-.94-.94-2.06-.94 2.06-2.06.94z\"/><path d=\"M17.41 7.96l-1.37-1.37c-.4-.4-.92-.59-1.43-.59-.52 0-1.04.2-1.43.59L10.3 9.45l-7.72 7.72c-.78.78-.78 2.05 0 2.83L4 21.41c.39.39.9.59 1.41.59.51 0 1.02-.2 1.41-.59l7.78-7.78 2.81-2.81c.8-.78.8-2.07 0-2.86zM5.41 20L4 18.59l7.72-7.72 1.47 1.35L5.41 20z\"/>\n",
              "  </svg>\n",
              "      </button>\n",
              "      \n",
              "  <style>\n",
              "    .colab-df-container {\n",
              "      display:flex;\n",
              "      flex-wrap:wrap;\n",
              "      gap: 12px;\n",
              "    }\n",
              "\n",
              "    .colab-df-convert {\n",
              "      background-color: #E8F0FE;\n",
              "      border: none;\n",
              "      border-radius: 50%;\n",
              "      cursor: pointer;\n",
              "      display: none;\n",
              "      fill: #1967D2;\n",
              "      height: 32px;\n",
              "      padding: 0 0 0 0;\n",
              "      width: 32px;\n",
              "    }\n",
              "\n",
              "    .colab-df-convert:hover {\n",
              "      background-color: #E2EBFA;\n",
              "      box-shadow: 0px 1px 2px rgba(60, 64, 67, 0.3), 0px 1px 3px 1px rgba(60, 64, 67, 0.15);\n",
              "      fill: #174EA6;\n",
              "    }\n",
              "\n",
              "    [theme=dark] .colab-df-convert {\n",
              "      background-color: #3B4455;\n",
              "      fill: #D2E3FC;\n",
              "    }\n",
              "\n",
              "    [theme=dark] .colab-df-convert:hover {\n",
              "      background-color: #434B5C;\n",
              "      box-shadow: 0px 1px 3px 1px rgba(0, 0, 0, 0.15);\n",
              "      filter: drop-shadow(0px 1px 2px rgba(0, 0, 0, 0.3));\n",
              "      fill: #FFFFFF;\n",
              "    }\n",
              "  </style>\n",
              "\n",
              "      <script>\n",
              "        const buttonEl =\n",
              "          document.querySelector('#df-a9e4f493-5bee-428e-9154-b1bb41b5c167 button.colab-df-convert');\n",
              "        buttonEl.style.display =\n",
              "          google.colab.kernel.accessAllowed ? 'block' : 'none';\n",
              "\n",
              "        async function convertToInteractive(key) {\n",
              "          const element = document.querySelector('#df-a9e4f493-5bee-428e-9154-b1bb41b5c167');\n",
              "          const dataTable =\n",
              "            await google.colab.kernel.invokeFunction('convertToInteractive',\n",
              "                                                     [key], {});\n",
              "          if (!dataTable) return;\n",
              "\n",
              "          const docLinkHtml = 'Like what you see? Visit the ' +\n",
              "            '<a target=\"_blank\" href=https://colab.research.google.com/notebooks/data_table.ipynb>data table notebook</a>'\n",
              "            + ' to learn more about interactive tables.';\n",
              "          element.innerHTML = '';\n",
              "          dataTable['output_type'] = 'display_data';\n",
              "          await google.colab.output.renderOutput(dataTable, element);\n",
              "          const docLink = document.createElement('div');\n",
              "          docLink.innerHTML = docLinkHtml;\n",
              "          element.appendChild(docLink);\n",
              "        }\n",
              "      </script>\n",
              "    </div>\n",
              "  </div>\n",
              "  "
            ],
            "text/plain": [
              "     start_date    end_date  ... not_very  not_at_all\n",
              "267  2020-05-05  2020-05-08  ...     25.0        10.0\n",
              "268  2020-05-05  2020-05-08  ...     16.0         5.0\n",
              "269  2020-05-02  2020-05-09  ...     18.8         8.7\n",
              "261  2020-05-01  2020-05-06  ...     16.0         7.0\n",
              "677  2021-03-08  2021-03-30  ...     27.0        11.0\n",
              "\n",
              "[5 rows x 12 columns]"
            ]
          },
          "metadata": {},
          "execution_count": 45
        }
      ]
    },
    {
      "cell_type": "code",
      "source": [
        "concern[:213]"
      ],
      "metadata": {
        "colab": {
          "base_uri": "https://localhost:8080/",
          "height": 423
        },
        "id": "DDd59C5AfLEQ",
        "outputId": "d4baccbd-f47e-490e-98db-4fc0eb1de0af"
      },
      "execution_count": null,
      "outputs": [
        {
          "output_type": "execute_result",
          "data": {
            "text/html": [
              "\n",
              "  <div id=\"df-05b1948d-08bb-44c9-8700-920dd7f42c66\">\n",
              "    <div class=\"colab-df-container\">\n",
              "      <div>\n",
              "<style scoped>\n",
              "    .dataframe tbody tr th:only-of-type {\n",
              "        vertical-align: middle;\n",
              "    }\n",
              "\n",
              "    .dataframe tbody tr th {\n",
              "        vertical-align: top;\n",
              "    }\n",
              "\n",
              "    .dataframe thead th {\n",
              "        text-align: right;\n",
              "    }\n",
              "</style>\n",
              "<table border=\"1\" class=\"dataframe\">\n",
              "  <thead>\n",
              "    <tr style=\"text-align: right;\">\n",
              "      <th></th>\n",
              "      <th>start_date</th>\n",
              "      <th>end_date</th>\n",
              "      <th>pollster</th>\n",
              "      <th>sample_size</th>\n",
              "      <th>population</th>\n",
              "      <th>party</th>\n",
              "      <th>subject</th>\n",
              "      <th>text</th>\n",
              "      <th>very</th>\n",
              "      <th>somewhat</th>\n",
              "      <th>not_very</th>\n",
              "      <th>not_at_all</th>\n",
              "    </tr>\n",
              "  </thead>\n",
              "  <tbody>\n",
              "    <tr>\n",
              "      <th>0</th>\n",
              "      <td>2020-01-27</td>\n",
              "      <td>2020-01-29</td>\n",
              "      <td>Morning Consult</td>\n",
              "      <td>2202</td>\n",
              "      <td>a</td>\n",
              "      <td>all</td>\n",
              "      <td>concern-economy</td>\n",
              "      <td>How concerned are you that the coronavirus wil...</td>\n",
              "      <td>19.00</td>\n",
              "      <td>33.00</td>\n",
              "      <td>23.00</td>\n",
              "      <td>11.00</td>\n",
              "    </tr>\n",
              "    <tr>\n",
              "      <th>525</th>\n",
              "      <td>2020-09-14</td>\n",
              "      <td>2020-09-20</td>\n",
              "      <td>SurveyMonkey</td>\n",
              "      <td>36454</td>\n",
              "      <td>a</td>\n",
              "      <td>all</td>\n",
              "      <td>concern-economy</td>\n",
              "      <td>How worried are you that the coronavirus outbr...</td>\n",
              "      <td>61.00</td>\n",
              "      <td>28.00</td>\n",
              "      <td>7.00</td>\n",
              "      <td>3.00</td>\n",
              "    </tr>\n",
              "    <tr>\n",
              "      <th>213</th>\n",
              "      <td>2020-04-25</td>\n",
              "      <td>2020-04-27</td>\n",
              "      <td>Harris Poll</td>\n",
              "      <td>2050</td>\n",
              "      <td>a</td>\n",
              "      <td>all</td>\n",
              "      <td>concern-economy</td>\n",
              "      <td>How concerned are you about the impact coronav...</td>\n",
              "      <td>57.00</td>\n",
              "      <td>30.00</td>\n",
              "      <td>8.00</td>\n",
              "      <td>5.00</td>\n",
              "    </tr>\n",
              "    <tr>\n",
              "      <th>214</th>\n",
              "      <td>2020-04-24</td>\n",
              "      <td>2020-04-27</td>\n",
              "      <td>Ipsos</td>\n",
              "      <td>1021</td>\n",
              "      <td>a</td>\n",
              "      <td>all</td>\n",
              "      <td>concern-economy</td>\n",
              "      <td>How concerned are you, if at all, with the fol...</td>\n",
              "      <td>61.00</td>\n",
              "      <td>26.00</td>\n",
              "      <td>8.00</td>\n",
              "      <td>4.00</td>\n",
              "    </tr>\n",
              "    <tr>\n",
              "      <th>215</th>\n",
              "      <td>2020-04-22</td>\n",
              "      <td>2020-04-27</td>\n",
              "      <td>Global Strategy Group/GBAO/Navigator Research</td>\n",
              "      <td>1031</td>\n",
              "      <td>rv</td>\n",
              "      <td>all</td>\n",
              "      <td>concern-economy</td>\n",
              "      <td>Below are some things some people might be wor...</td>\n",
              "      <td>42.00</td>\n",
              "      <td>45.00</td>\n",
              "      <td>10.00</td>\n",
              "      <td>2.00</td>\n",
              "    </tr>\n",
              "    <tr>\n",
              "      <th>...</th>\n",
              "      <td>...</td>\n",
              "      <td>...</td>\n",
              "      <td>...</td>\n",
              "      <td>...</td>\n",
              "      <td>...</td>\n",
              "      <td>...</td>\n",
              "      <td>...</td>\n",
              "      <td>...</td>\n",
              "      <td>...</td>\n",
              "      <td>...</td>\n",
              "      <td>...</td>\n",
              "      <td>...</td>\n",
              "    </tr>\n",
              "    <tr>\n",
              "      <th>121</th>\n",
              "      <td>2020-04-04</td>\n",
              "      <td>2020-04-07</td>\n",
              "      <td>Fox News</td>\n",
              "      <td>1107</td>\n",
              "      <td>rv</td>\n",
              "      <td>all</td>\n",
              "      <td>concern-economy</td>\n",
              "      <td>The coronavirus pandemic will lead to an econo...</td>\n",
              "      <td>61.00</td>\n",
              "      <td>29.00</td>\n",
              "      <td>5.00</td>\n",
              "      <td>3.00</td>\n",
              "    </tr>\n",
              "    <tr>\n",
              "      <th>15</th>\n",
              "      <td>2020-02-28</td>\n",
              "      <td>2020-03-01</td>\n",
              "      <td>Morning Consult</td>\n",
              "      <td>2201</td>\n",
              "      <td>a</td>\n",
              "      <td>all</td>\n",
              "      <td>concern-economy</td>\n",
              "      <td>How concerned are you that the coronavirus wil...</td>\n",
              "      <td>38.00</td>\n",
              "      <td>33.00</td>\n",
              "      <td>13.00</td>\n",
              "      <td>5.00</td>\n",
              "    </tr>\n",
              "    <tr>\n",
              "      <th>587</th>\n",
              "      <td>2020-11-06</td>\n",
              "      <td>2020-11-09</td>\n",
              "      <td>Morning Consult</td>\n",
              "      <td>2200</td>\n",
              "      <td>a</td>\n",
              "      <td>all</td>\n",
              "      <td>concern-economy</td>\n",
              "      <td>How concerned are you that the coronavirus wil...</td>\n",
              "      <td>57.00</td>\n",
              "      <td>28.00</td>\n",
              "      <td>4.00</td>\n",
              "      <td>3.00</td>\n",
              "    </tr>\n",
              "    <tr>\n",
              "      <th>596</th>\n",
              "      <td>2020-11-19</td>\n",
              "      <td>2020-11-23</td>\n",
              "      <td>Morning Consult</td>\n",
              "      <td>2200</td>\n",
              "      <td>a</td>\n",
              "      <td>all</td>\n",
              "      <td>concern-economy</td>\n",
              "      <td>How concerned are you that the coronavirus wil...</td>\n",
              "      <td>60.00</td>\n",
              "      <td>27.00</td>\n",
              "      <td>4.00</td>\n",
              "      <td>2.00</td>\n",
              "    </tr>\n",
              "    <tr>\n",
              "      <th>471</th>\n",
              "      <td>2020-08-11</td>\n",
              "      <td>2020-08-11</td>\n",
              "      <td>Data for Progress</td>\n",
              "      <td>934</td>\n",
              "      <td>a</td>\n",
              "      <td>all</td>\n",
              "      <td>concern-infected</td>\n",
              "      <td>How worried are you personally about experienc...</td>\n",
              "      <td>34.86</td>\n",
              "      <td>33.17</td>\n",
              "      <td>17.12</td>\n",
              "      <td>13.02</td>\n",
              "    </tr>\n",
              "  </tbody>\n",
              "</table>\n",
              "<p>213 rows × 12 columns</p>\n",
              "</div>\n",
              "      <button class=\"colab-df-convert\" onclick=\"convertToInteractive('df-05b1948d-08bb-44c9-8700-920dd7f42c66')\"\n",
              "              title=\"Convert this dataframe to an interactive table.\"\n",
              "              style=\"display:none;\">\n",
              "        \n",
              "  <svg xmlns=\"http://www.w3.org/2000/svg\" height=\"24px\"viewBox=\"0 0 24 24\"\n",
              "       width=\"24px\">\n",
              "    <path d=\"M0 0h24v24H0V0z\" fill=\"none\"/>\n",
              "    <path d=\"M18.56 5.44l.94 2.06.94-2.06 2.06-.94-2.06-.94-.94-2.06-.94 2.06-2.06.94zm-11 1L8.5 8.5l.94-2.06 2.06-.94-2.06-.94L8.5 2.5l-.94 2.06-2.06.94zm10 10l.94 2.06.94-2.06 2.06-.94-2.06-.94-.94-2.06-.94 2.06-2.06.94z\"/><path d=\"M17.41 7.96l-1.37-1.37c-.4-.4-.92-.59-1.43-.59-.52 0-1.04.2-1.43.59L10.3 9.45l-7.72 7.72c-.78.78-.78 2.05 0 2.83L4 21.41c.39.39.9.59 1.41.59.51 0 1.02-.2 1.41-.59l7.78-7.78 2.81-2.81c.8-.78.8-2.07 0-2.86zM5.41 20L4 18.59l7.72-7.72 1.47 1.35L5.41 20z\"/>\n",
              "  </svg>\n",
              "      </button>\n",
              "      \n",
              "  <style>\n",
              "    .colab-df-container {\n",
              "      display:flex;\n",
              "      flex-wrap:wrap;\n",
              "      gap: 12px;\n",
              "    }\n",
              "\n",
              "    .colab-df-convert {\n",
              "      background-color: #E8F0FE;\n",
              "      border: none;\n",
              "      border-radius: 50%;\n",
              "      cursor: pointer;\n",
              "      display: none;\n",
              "      fill: #1967D2;\n",
              "      height: 32px;\n",
              "      padding: 0 0 0 0;\n",
              "      width: 32px;\n",
              "    }\n",
              "\n",
              "    .colab-df-convert:hover {\n",
              "      background-color: #E2EBFA;\n",
              "      box-shadow: 0px 1px 2px rgba(60, 64, 67, 0.3), 0px 1px 3px 1px rgba(60, 64, 67, 0.15);\n",
              "      fill: #174EA6;\n",
              "    }\n",
              "\n",
              "    [theme=dark] .colab-df-convert {\n",
              "      background-color: #3B4455;\n",
              "      fill: #D2E3FC;\n",
              "    }\n",
              "\n",
              "    [theme=dark] .colab-df-convert:hover {\n",
              "      background-color: #434B5C;\n",
              "      box-shadow: 0px 1px 3px 1px rgba(0, 0, 0, 0.15);\n",
              "      filter: drop-shadow(0px 1px 2px rgba(0, 0, 0, 0.3));\n",
              "      fill: #FFFFFF;\n",
              "    }\n",
              "  </style>\n",
              "\n",
              "      <script>\n",
              "        const buttonEl =\n",
              "          document.querySelector('#df-05b1948d-08bb-44c9-8700-920dd7f42c66 button.colab-df-convert');\n",
              "        buttonEl.style.display =\n",
              "          google.colab.kernel.accessAllowed ? 'block' : 'none';\n",
              "\n",
              "        async function convertToInteractive(key) {\n",
              "          const element = document.querySelector('#df-05b1948d-08bb-44c9-8700-920dd7f42c66');\n",
              "          const dataTable =\n",
              "            await google.colab.kernel.invokeFunction('convertToInteractive',\n",
              "                                                     [key], {});\n",
              "          if (!dataTable) return;\n",
              "\n",
              "          const docLinkHtml = 'Like what you see? Visit the ' +\n",
              "            '<a target=\"_blank\" href=https://colab.research.google.com/notebooks/data_table.ipynb>data table notebook</a>'\n",
              "            + ' to learn more about interactive tables.';\n",
              "          element.innerHTML = '';\n",
              "          dataTable['output_type'] = 'display_data';\n",
              "          await google.colab.output.renderOutput(dataTable, element);\n",
              "          const docLink = document.createElement('div');\n",
              "          docLink.innerHTML = docLinkHtml;\n",
              "          element.appendChild(docLink);\n",
              "        }\n",
              "      </script>\n",
              "    </div>\n",
              "  </div>\n",
              "  "
            ],
            "text/plain": [
              "     start_date    end_date  ... not_very  not_at_all\n",
              "0    2020-01-27  2020-01-29  ...    23.00       11.00\n",
              "525  2020-09-14  2020-09-20  ...     7.00        3.00\n",
              "213  2020-04-25  2020-04-27  ...     8.00        5.00\n",
              "214  2020-04-24  2020-04-27  ...     8.00        4.00\n",
              "215  2020-04-22  2020-04-27  ...    10.00        2.00\n",
              "..          ...         ...  ...      ...         ...\n",
              "121  2020-04-04  2020-04-07  ...     5.00        3.00\n",
              "15   2020-02-28  2020-03-01  ...    13.00        5.00\n",
              "587  2020-11-06  2020-11-09  ...     4.00        3.00\n",
              "596  2020-11-19  2020-11-23  ...     4.00        2.00\n",
              "471  2020-08-11  2020-08-11  ...    17.12       13.02\n",
              "\n",
              "[213 rows x 12 columns]"
            ]
          },
          "metadata": {},
          "execution_count": 48
        }
      ]
    },
    {
      "cell_type": "code",
      "source": [
        "concern.shape"
      ],
      "metadata": {
        "colab": {
          "base_uri": "https://localhost:8080/"
        },
        "id": "ICpfT73NfzE7",
        "outputId": "2df5bb7e-593c-458d-ee07-3e8837141cf3"
      },
      "execution_count": null,
      "outputs": [
        {
          "output_type": "execute_result",
          "data": {
            "text/plain": [
              "(678, 12)"
            ]
          },
          "metadata": {},
          "execution_count": 50
        }
      ]
    },
    {
      "cell_type": "code",
      "source": [
        "concern.tail()"
      ],
      "metadata": {
        "colab": {
          "base_uri": "https://localhost:8080/",
          "height": 206
        },
        "id": "KdCaiAjcf4bu",
        "outputId": "5c4139e1-afbb-4083-f25a-30102dfce271"
      },
      "execution_count": null,
      "outputs": [
        {
          "output_type": "execute_result",
          "data": {
            "text/html": [
              "\n",
              "  <div id=\"df-97a05653-f361-466a-9dda-c3da789e243f\">\n",
              "    <div class=\"colab-df-container\">\n",
              "      <div>\n",
              "<style scoped>\n",
              "    .dataframe tbody tr th:only-of-type {\n",
              "        vertical-align: middle;\n",
              "    }\n",
              "\n",
              "    .dataframe tbody tr th {\n",
              "        vertical-align: top;\n",
              "    }\n",
              "\n",
              "    .dataframe thead th {\n",
              "        text-align: right;\n",
              "    }\n",
              "</style>\n",
              "<table border=\"1\" class=\"dataframe\">\n",
              "  <thead>\n",
              "    <tr style=\"text-align: right;\">\n",
              "      <th></th>\n",
              "      <th>start_date</th>\n",
              "      <th>end_date</th>\n",
              "      <th>pollster</th>\n",
              "      <th>sample_size</th>\n",
              "      <th>population</th>\n",
              "      <th>party</th>\n",
              "      <th>subject</th>\n",
              "      <th>text</th>\n",
              "      <th>very</th>\n",
              "      <th>somewhat</th>\n",
              "      <th>not_very</th>\n",
              "      <th>not_at_all</th>\n",
              "    </tr>\n",
              "  </thead>\n",
              "  <tbody>\n",
              "    <tr>\n",
              "      <th>267</th>\n",
              "      <td>2020-05-05</td>\n",
              "      <td>2020-05-08</td>\n",
              "      <td>Global Strategy Group/GBAO/Navigator Research</td>\n",
              "      <td>1022</td>\n",
              "      <td>rv</td>\n",
              "      <td>all</td>\n",
              "      <td>concern-infected</td>\n",
              "      <td>Below are some things some people might be wor...</td>\n",
              "      <td>30.0</td>\n",
              "      <td>36.0</td>\n",
              "      <td>25.0</td>\n",
              "      <td>10.0</td>\n",
              "    </tr>\n",
              "    <tr>\n",
              "      <th>268</th>\n",
              "      <td>2020-05-05</td>\n",
              "      <td>2020-05-08</td>\n",
              "      <td>Global Strategy Group/GBAO/Navigator Research</td>\n",
              "      <td>1022</td>\n",
              "      <td>rv</td>\n",
              "      <td>all</td>\n",
              "      <td>concern-infected</td>\n",
              "      <td>Below are some things some people might be wor...</td>\n",
              "      <td>44.0</td>\n",
              "      <td>34.0</td>\n",
              "      <td>16.0</td>\n",
              "      <td>5.0</td>\n",
              "    </tr>\n",
              "    <tr>\n",
              "      <th>269</th>\n",
              "      <td>2020-05-02</td>\n",
              "      <td>2020-05-09</td>\n",
              "      <td>Firehouse Strategies/Øptimus</td>\n",
              "      <td>821</td>\n",
              "      <td>a</td>\n",
              "      <td>all</td>\n",
              "      <td>concern-infected</td>\n",
              "      <td>How worried are you about the possibility that...</td>\n",
              "      <td>31.6</td>\n",
              "      <td>39.9</td>\n",
              "      <td>18.8</td>\n",
              "      <td>8.7</td>\n",
              "    </tr>\n",
              "    <tr>\n",
              "      <th>261</th>\n",
              "      <td>2020-05-01</td>\n",
              "      <td>2020-05-06</td>\n",
              "      <td>Global Strategy Group/GBAO/Navigator Research</td>\n",
              "      <td>1014</td>\n",
              "      <td>rv</td>\n",
              "      <td>all</td>\n",
              "      <td>concern-infected</td>\n",
              "      <td>Below are some things some people might be wor...</td>\n",
              "      <td>45.0</td>\n",
              "      <td>33.0</td>\n",
              "      <td>16.0</td>\n",
              "      <td>7.0</td>\n",
              "    </tr>\n",
              "    <tr>\n",
              "      <th>677</th>\n",
              "      <td>2021-03-08</td>\n",
              "      <td>2021-03-30</td>\n",
              "      <td>Public Religion Research Institute</td>\n",
              "      <td>5625</td>\n",
              "      <td>a</td>\n",
              "      <td>all</td>\n",
              "      <td>concern-infected</td>\n",
              "      <td>How worried, if at all, are you about each of ...</td>\n",
              "      <td>23.0</td>\n",
              "      <td>39.0</td>\n",
              "      <td>27.0</td>\n",
              "      <td>11.0</td>\n",
              "    </tr>\n",
              "  </tbody>\n",
              "</table>\n",
              "</div>\n",
              "      <button class=\"colab-df-convert\" onclick=\"convertToInteractive('df-97a05653-f361-466a-9dda-c3da789e243f')\"\n",
              "              title=\"Convert this dataframe to an interactive table.\"\n",
              "              style=\"display:none;\">\n",
              "        \n",
              "  <svg xmlns=\"http://www.w3.org/2000/svg\" height=\"24px\"viewBox=\"0 0 24 24\"\n",
              "       width=\"24px\">\n",
              "    <path d=\"M0 0h24v24H0V0z\" fill=\"none\"/>\n",
              "    <path d=\"M18.56 5.44l.94 2.06.94-2.06 2.06-.94-2.06-.94-.94-2.06-.94 2.06-2.06.94zm-11 1L8.5 8.5l.94-2.06 2.06-.94-2.06-.94L8.5 2.5l-.94 2.06-2.06.94zm10 10l.94 2.06.94-2.06 2.06-.94-2.06-.94-.94-2.06-.94 2.06-2.06.94z\"/><path d=\"M17.41 7.96l-1.37-1.37c-.4-.4-.92-.59-1.43-.59-.52 0-1.04.2-1.43.59L10.3 9.45l-7.72 7.72c-.78.78-.78 2.05 0 2.83L4 21.41c.39.39.9.59 1.41.59.51 0 1.02-.2 1.41-.59l7.78-7.78 2.81-2.81c.8-.78.8-2.07 0-2.86zM5.41 20L4 18.59l7.72-7.72 1.47 1.35L5.41 20z\"/>\n",
              "  </svg>\n",
              "      </button>\n",
              "      \n",
              "  <style>\n",
              "    .colab-df-container {\n",
              "      display:flex;\n",
              "      flex-wrap:wrap;\n",
              "      gap: 12px;\n",
              "    }\n",
              "\n",
              "    .colab-df-convert {\n",
              "      background-color: #E8F0FE;\n",
              "      border: none;\n",
              "      border-radius: 50%;\n",
              "      cursor: pointer;\n",
              "      display: none;\n",
              "      fill: #1967D2;\n",
              "      height: 32px;\n",
              "      padding: 0 0 0 0;\n",
              "      width: 32px;\n",
              "    }\n",
              "\n",
              "    .colab-df-convert:hover {\n",
              "      background-color: #E2EBFA;\n",
              "      box-shadow: 0px 1px 2px rgba(60, 64, 67, 0.3), 0px 1px 3px 1px rgba(60, 64, 67, 0.15);\n",
              "      fill: #174EA6;\n",
              "    }\n",
              "\n",
              "    [theme=dark] .colab-df-convert {\n",
              "      background-color: #3B4455;\n",
              "      fill: #D2E3FC;\n",
              "    }\n",
              "\n",
              "    [theme=dark] .colab-df-convert:hover {\n",
              "      background-color: #434B5C;\n",
              "      box-shadow: 0px 1px 3px 1px rgba(0, 0, 0, 0.15);\n",
              "      filter: drop-shadow(0px 1px 2px rgba(0, 0, 0, 0.3));\n",
              "      fill: #FFFFFF;\n",
              "    }\n",
              "  </style>\n",
              "\n",
              "      <script>\n",
              "        const buttonEl =\n",
              "          document.querySelector('#df-97a05653-f361-466a-9dda-c3da789e243f button.colab-df-convert');\n",
              "        buttonEl.style.display =\n",
              "          google.colab.kernel.accessAllowed ? 'block' : 'none';\n",
              "\n",
              "        async function convertToInteractive(key) {\n",
              "          const element = document.querySelector('#df-97a05653-f361-466a-9dda-c3da789e243f');\n",
              "          const dataTable =\n",
              "            await google.colab.kernel.invokeFunction('convertToInteractive',\n",
              "                                                     [key], {});\n",
              "          if (!dataTable) return;\n",
              "\n",
              "          const docLinkHtml = 'Like what you see? Visit the ' +\n",
              "            '<a target=\"_blank\" href=https://colab.research.google.com/notebooks/data_table.ipynb>data table notebook</a>'\n",
              "            + ' to learn more about interactive tables.';\n",
              "          element.innerHTML = '';\n",
              "          dataTable['output_type'] = 'display_data';\n",
              "          await google.colab.output.renderOutput(dataTable, element);\n",
              "          const docLink = document.createElement('div');\n",
              "          docLink.innerHTML = docLinkHtml;\n",
              "          element.appendChild(docLink);\n",
              "        }\n",
              "      </script>\n",
              "    </div>\n",
              "  </div>\n",
              "  "
            ],
            "text/plain": [
              "     start_date    end_date  ... not_very  not_at_all\n",
              "267  2020-05-05  2020-05-08  ...     25.0        10.0\n",
              "268  2020-05-05  2020-05-08  ...     16.0         5.0\n",
              "269  2020-05-02  2020-05-09  ...     18.8         8.7\n",
              "261  2020-05-01  2020-05-06  ...     16.0         7.0\n",
              "677  2021-03-08  2021-03-30  ...     27.0        11.0\n",
              "\n",
              "[5 rows x 12 columns]"
            ]
          },
          "metadata": {},
          "execution_count": 51
        }
      ]
    },
    {
      "cell_type": "code",
      "source": [
        "concern_economy = concern.iloc[0:212]\n",
        "concern_infected = concern.iloc[213:677]"
      ],
      "metadata": {
        "id": "R-CDsrshfZEh"
      },
      "execution_count": null,
      "outputs": []
    },
    {
      "cell_type": "code",
      "source": [
        "concern_economy['very'].nunique()"
      ],
      "metadata": {
        "colab": {
          "base_uri": "https://localhost:8080/"
        },
        "id": "v2_kTEiglE5g",
        "outputId": "0fcf8c91-5c1a-4f25-a753-88a066a33a55"
      },
      "execution_count": null,
      "outputs": [
        {
          "output_type": "execute_result",
          "data": {
            "text/plain": [
              "44"
            ]
          },
          "metadata": {},
          "execution_count": 63
        }
      ]
    },
    {
      "cell_type": "code",
      "source": [
        "concern_economy[0:5].plot(\n",
        "    kind='pie', y='very').set(title = \"Economy\")"
      ],
      "metadata": {
        "colab": {
          "base_uri": "https://localhost:8080/",
          "height": 283
        },
        "id": "oUY1xgwEicaJ",
        "outputId": "27701211-175d-4575-9d8c-7c717ba03008"
      },
      "execution_count": null,
      "outputs": [
        {
          "output_type": "execute_result",
          "data": {
            "text/plain": [
              "[Text(0.5, 1.0, 'Economy')]"
            ]
          },
          "metadata": {},
          "execution_count": 73
        },
        {
          "output_type": "display_data",
          "data": {
            "image/png": "[encoded data removed]",
            "text/plain": [
              "<Figure size 432x288 with 1 Axes>"
            ]
          },
          "metadata": {}
        }
      ]
    },
    {
      "cell_type": "code",
      "source": [
        "concern_economy[0:5].plot(\n",
        "    kind='pie', y='somewhat').set(title = \"Economy\")"
      ],
      "metadata": {
        "colab": {
          "base_uri": "https://localhost:8080/",
          "height": 283
        },
        "id": "xUHi90KNkkio",
        "outputId": "73c8a855-fcbe-4cce-8869-d3ca0c7c2dd8"
      },
      "execution_count": null,
      "outputs": [
        {
          "output_type": "execute_result",
          "data": {
            "text/plain": [
              "[Text(0.5, 1.0, 'Economy')]"
            ]
          },
          "metadata": {},
          "execution_count": 74
        },
        {
          "output_type": "display_data",
          "data": {
            "image/png": "[encoded data removed]",
            "text/plain": [
              "<Figure size 432x288 with 1 Axes>"
            ]
          },
          "metadata": {}
        }
      ]
    },
    {
      "cell_type": "code",
      "source": [
        "concern_economy[0:5].plot(\n",
        "    kind='pie', y='not_very').set(title = \"Economy\")"
      ],
      "metadata": {
        "colab": {
          "base_uri": "https://localhost:8080/",
          "height": 283
        },
        "id": "MEWSCwoZmnHZ",
        "outputId": "de3add31-67e2-4e89-81b6-746c80cd62e6"
      },
      "execution_count": null,
      "outputs": [
        {
          "output_type": "execute_result",
          "data": {
            "text/plain": [
              "[Text(0.5, 1.0, 'Economy')]"
            ]
          },
          "metadata": {},
          "execution_count": 75
        },
        {
          "output_type": "display_data",
          "data": {
            "image/png": "[encoded data removed]",
            "text/plain": [
              "<Figure size 432x288 with 1 Axes>"
            ]
          },
          "metadata": {}
        }
      ]
    },
    {
      "cell_type": "code",
      "source": [
        "concern_economy[0:5].plot(\n",
        "    kind='pie', y='not_at_all').set(title = \"Economy\")"
      ],
      "metadata": {
        "colab": {
          "base_uri": "https://localhost:8080/",
          "height": 283
        },
        "id": "0wBM6woOmqrV",
        "outputId": "f3977627-b08e-4d1f-ba10-eea4b25dd5b7"
      },
      "execution_count": null,
      "outputs": [
        {
          "output_type": "execute_result",
          "data": {
            "text/plain": [
              "[Text(0.5, 1.0, 'Economy')]"
            ]
          },
          "metadata": {},
          "execution_count": 76
        },
        {
          "output_type": "display_data",
          "data": {
            "image/png": "[encoded data removed]",
            "text/plain": [
              "<Figure size 432x288 with 1 Axes>"
            ]
          },
          "metadata": {}
        }
      ]
    },
    {
      "cell_type": "code",
      "source": [
        "concern_infected[0:5].plot(\n",
        "    kind = 'pie', y = 'very').set(title = \"Infected\")"
      ],
      "metadata": {
        "colab": {
          "base_uri": "https://localhost:8080/",
          "height": 283
        },
        "id": "hNhIOK0ymuJu",
        "outputId": "f52f121f-ea59-433a-e985-c8f542e00c44"
      },
      "execution_count": null,
      "outputs": [
        {
          "output_type": "execute_result",
          "data": {
            "text/plain": [
              "[Text(0.5, 1.0, 'Infected')]"
            ]
          },
          "metadata": {},
          "execution_count": 77
        },
        {
          "output_type": "display_data",
          "data": {
            "image/png": "[encoded data removed]",
            "text/plain": [
              "<Figure size 432x288 with 1 Axes>"
            ]
          },
          "metadata": {}
        }
      ]
    },
    {
      "cell_type": "code",
      "source": [
        "concern_infected[0:5].plot(\n",
        "    kind = 'pie', y = 'somewhat').set(title = \"Infected\")"
      ],
      "metadata": {
        "colab": {
          "base_uri": "https://localhost:8080/",
          "height": 283
        },
        "id": "Q3_TPL-1m9kQ",
        "outputId": "8cece50b-a83b-41c6-c8d1-56142541f71b"
      },
      "execution_count": null,
      "outputs": [
        {
          "output_type": "execute_result",
          "data": {
            "text/plain": [
              "[Text(0.5, 1.0, 'Infected')]"
            ]
          },
          "metadata": {},
          "execution_count": 79
        },
        {
          "output_type": "display_data",
          "data": {
            "image/png": "[encoded data removed]",
            "text/plain": [
              "<Figure size 432x288 with 1 Axes>"
            ]
          },
          "metadata": {}
        }
      ]
    },
    {
      "cell_type": "code",
      "source": [
        "concern_infected[0:5].plot(\n",
        "    kind = 'pie', y = 'not_very').set(title = \"Infected\")"
      ],
      "metadata": {
        "colab": {
          "base_uri": "https://localhost:8080/",
          "height": 283
        },
        "id": "goXLYP5RnACv",
        "outputId": "feb4727d-9910-48c2-aca0-377d79b1589b"
      },
      "execution_count": null,
      "outputs": [
        {
          "output_type": "execute_result",
          "data": {
            "text/plain": [
              "[Text(0.5, 1.0, 'Infected')]"
            ]
          },
          "metadata": {},
          "execution_count": 80
        },
        {
          "output_type": "display_data",
          "data": {
            "image/png": "[encoded data removed]",
            "text/plain": [
              "<Figure size 432x288 with 1 Axes>"
            ]
          },
          "metadata": {}
        }
      ]
    },
    {
      "cell_type": "code",
      "source": [
        "concern_infected[0:5].plot(\n",
        "    kind = 'pie', y = 'not_at_all').set(title = \"Infected\")"
      ],
      "metadata": {
        "colab": {
          "base_uri": "https://localhost:8080/",
          "height": 283
        },
        "id": "IG3Geu5DnDov",
        "outputId": "846c66c2-672a-41af-90b6-72a780875825"
      },
      "execution_count": null,
      "outputs": [
        {
          "output_type": "execute_result",
          "data": {
            "text/plain": [
              "[Text(0.5, 1.0, 'Infected')]"
            ]
          },
          "metadata": {},
          "execution_count": 81
        },
        {
          "output_type": "display_data",
          "data": {
            "image/png": "[encoded data removed]",
            "text/plain": [
              "<Figure size 432x288 with 1 Axes>"
            ]
          },
          "metadata": {}
        }
      ]
    },
    {
      "cell_type": "code",
      "source": [
        "concern_economy.iloc[0:10,8:12].plot.bar(stacked = True).set(title = \"Economy\")"
      ],
      "metadata": {
        "colab": {
          "base_uri": "https://localhost:8080/",
          "height": 308
        },
        "id": "DhFFJanMnFYW",
        "outputId": "bbe72f3a-c326-4078-9c9d-f0ec1ca23b55"
      },
      "execution_count": null,
      "outputs": [
        {
          "output_type": "execute_result",
          "data": {
            "text/plain": [
              "[Text(0.5, 1.0, 'Economy')]"
            ]
          },
          "metadata": {},
          "execution_count": 92
        },
        {
          "output_type": "display_data",
          "data": {
            "image/png": "[encoded data removed]",
            "text/plain": [
              "<Figure size 432x288 with 1 Axes>"
            ]
          },
          "metadata": {
            "needs_background": "light"
          }
        }
      ]
    },
    {
      "cell_type": "code",
      "source": [
        "concern_infected.iloc[0:10,8:12].plot.bar(stacked = True).set(title = \"Infected\")"
      ],
      "metadata": {
        "colab": {
          "base_uri": "https://localhost:8080/",
          "height": 308
        },
        "id": "GLkg7g1CpBYm",
        "outputId": "ee76f765-0fec-42bf-b7c9-f768718c8971"
      },
      "execution_count": null,
      "outputs": [
        {
          "output_type": "execute_result",
          "data": {
            "text/plain": [
              "[Text(0.5, 1.0, 'Infected')]"
            ]
          },
          "metadata": {},
          "execution_count": 93
        },
        {
          "output_type": "display_data",
          "data": {
            "image/png": "[encoded data removed]",
            "text/plain": [
              "<Figure size 432x288 with 1 Axes>"
            ]
          },
          "metadata": {
            "needs_background": "light"
          }
        }
      ]
    },
    {
      "cell_type": "code",
      "source": [
        ""
      ],
      "metadata": {
        "id": "_Te6UA71pvdv"
      },
      "execution_count": null,
      "outputs": []
    }
  ]
}